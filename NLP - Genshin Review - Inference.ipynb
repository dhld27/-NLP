{
  "cells": [
    {
      "cell_type": "code",
      "execution_count": 9,
      "metadata": {
        "id": "XWRFwr4fRQEh"
      },
      "outputs": [],
      "source": [
        "# Library Load Model\n",
        "import pandas as pd\n",
        "import numpy as np\n",
        "import pickle\n",
        "from tensorflow.keras.models import load_model\n",
        "\n",
        "# Library Pre-Processing\n",
        "import nltk\n",
        "import re\n",
        "from nltk.corpus import stopwords\n",
        "from nltk.tokenize import word_tokenize\n",
        "import string\n",
        "from nltk.stem import WordNetLemmatizer"
      ]
    },
    {
      "cell_type": "code",
      "execution_count": 10,
      "metadata": {
        "colab": {
          "base_uri": "https://localhost:8080/",
          "height": 304
        },
        "id": "nT_DlkLfm5y2",
        "outputId": "47fe1422-fef6-4bcb-c795-a893b7499103"
      },
      "outputs": [],
      "source": [
        "# Load Model\n",
        "model = load_model('model')"
      ]
    },
    {
      "cell_type": "code",
      "execution_count": 38,
      "metadata": {
        "id": "eruJ99qXnMEF"
      },
      "outputs": [],
      "source": [
        "# Write your code here\n",
        "\n",
        "# Define Stopwords\n",
        "stopWords = list(set(stopwords.words('english')))\n",
        "additionalStopwords = [\n",
        "    'the', 'I', 'and', 'to', 'is', 'a', 'it', 'this', 'but',\n",
        "    'of', 'for', 'you', 'my', 'in', 'like', 'so', 'good', 'i', 'are',\n",
        "    'have', 'not', 'that', 'on', \"'s\"\n",
        "]\n",
        "stopWords.extend(additionalStopwords)\n",
        "\n",
        "# Define Stemming\n",
        "lemmatizer = WordNetLemmatizer()\n",
        "\n",
        "\n",
        "# Create A Function for Text Preprocessing\n",
        "\n",
        "def text_preprocessing(text):\n",
        "  # Case folding\n",
        "  text = text.lower()\n",
        "\n",
        "  # Newline removal (\\n)\n",
        "  text = re.sub(r\"\\\\n\", \" \",text)\n",
        "\n",
        "  # Whitespace removal\n",
        "  text = text.strip()\n",
        "\n",
        "  # Non-letter removal (such as emoticon, symbol (like μ, $, 兀), etc\n",
        "  text = re.sub(\"[^A-Za-z\\s']\", \" \", text)\n",
        "\n",
        "  # Tokenization\n",
        "  tokens = word_tokenize(text)\n",
        "\n",
        "  # Stopwords removal\n",
        "  tokens = [word for word in tokens if word not in stopWords]\n",
        "\n",
        "  # Stemming\n",
        "  tokens = [lemmatizer.lemmatize(word) for word in tokens]\n",
        "\n",
        "  # Combining Tokens\n",
        "  text = ' '.join(tokens)\n",
        "\n",
        "  return text"
      ]
    },
    {
      "cell_type": "code",
      "execution_count": 39,
      "metadata": {
        "id": "qwShNDZsngr5"
      },
      "outputs": [
        {
          "data": {
            "text/html": [
              "<div>\n",
              "<style scoped>\n",
              "    .dataframe tbody tr th:only-of-type {\n",
              "        vertical-align: middle;\n",
              "    }\n",
              "\n",
              "    .dataframe tbody tr th {\n",
              "        vertical-align: top;\n",
              "    }\n",
              "\n",
              "    .dataframe thead th {\n",
              "        text-align: right;\n",
              "    }\n",
              "</style>\n",
              "<table border=\"1\" class=\"dataframe\">\n",
              "  <thead>\n",
              "    <tr style=\"text-align: right;\">\n",
              "      <th></th>\n",
              "      <th>text</th>\n",
              "    </tr>\n",
              "  </thead>\n",
              "  <tbody>\n",
              "    <tr>\n",
              "      <th>0</th>\n",
              "      <td>\\nI really love this game so much!\\n</td>\n",
              "    </tr>\n",
              "  </tbody>\n",
              "</table>\n",
              "</div>"
            ],
            "text/plain": [
              "                                       text\n",
              "0  \\nI really love this game so much!\\n    "
            ]
          },
          "execution_count": 39,
          "metadata": {},
          "output_type": "execute_result"
        }
      ],
      "source": [
        "# Create a new Data\n",
        "data_inf = {\n",
        "    'text' : '''\n",
        "I really love this game so much!\n",
        "    '''}\n",
        "\n",
        "data_inf = pd.DataFrame([data_inf])\n",
        "data_inf"
      ]
    },
    {
      "cell_type": "code",
      "execution_count": 40,
      "metadata": {
        "id": "-jz4oxlMn5DH"
      },
      "outputs": [
        {
          "data": {
            "text/html": [
              "<div>\n",
              "<style scoped>\n",
              "    .dataframe tbody tr th:only-of-type {\n",
              "        vertical-align: middle;\n",
              "    }\n",
              "\n",
              "    .dataframe tbody tr th {\n",
              "        vertical-align: top;\n",
              "    }\n",
              "\n",
              "    .dataframe thead th {\n",
              "        text-align: right;\n",
              "    }\n",
              "</style>\n",
              "<table border=\"1\" class=\"dataframe\">\n",
              "  <thead>\n",
              "    <tr style=\"text-align: right;\">\n",
              "      <th></th>\n",
              "      <th>text</th>\n",
              "    </tr>\n",
              "  </thead>\n",
              "  <tbody>\n",
              "    <tr>\n",
              "      <th>0</th>\n",
              "      <td>really love game much</td>\n",
              "    </tr>\n",
              "  </tbody>\n",
              "</table>\n",
              "</div>"
            ],
            "text/plain": [
              "                    text\n",
              "0  really love game much"
            ]
          },
          "execution_count": 40,
          "metadata": {},
          "output_type": "execute_result"
        }
      ],
      "source": [
        "# Preprocess Inference\n",
        "\n",
        "## Configure the data\n",
        "\n",
        "data_inf['text'] = data_inf['text'].apply(lambda x: text_preprocessing(x))\n",
        "data_inf"
      ]
    },
    {
      "cell_type": "code",
      "execution_count": 41,
      "metadata": {
        "id": "IEFG--mAoCE3"
      },
      "outputs": [
        {
          "name": "stdout",
          "output_type": "stream",
          "text": [
            "1/1 [==============================] - 0s 47ms/step\n"
          ]
        },
        {
          "data": {
            "text/plain": [
              "2"
            ]
          },
          "execution_count": 41,
          "metadata": {},
          "output_type": "execute_result"
        }
      ],
      "source": [
        "# Predict using ANN\n",
        "\n",
        "import numpy as np\n",
        "y_pred_inf = model.predict(data_inf)\n",
        "y_pred_inf = np.argmax(y_pred_inf)\n",
        "y_pred_inf"
      ]
    }
  ],
  "metadata": {
    "colab": {
      "provenance": []
    },
    "kernelspec": {
      "display_name": "BSD-005",
      "language": "python",
      "name": "python3"
    },
    "language_info": {
      "codemirror_mode": {
        "name": "ipython",
        "version": 3
      },
      "file_extension": ".py",
      "mimetype": "text/x-python",
      "name": "python",
      "nbconvert_exporter": "python",
      "pygments_lexer": "ipython3",
      "version": "3.9.18"
    }
  },
  "nbformat": 4,
  "nbformat_minor": 0
}
