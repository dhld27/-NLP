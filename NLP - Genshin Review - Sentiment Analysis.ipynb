{
  "cells": [
    {
      "cell_type": "markdown",
      "metadata": {
        "id": "jvCOu4WibY7M"
      },
      "source": [
        "# ***NLP Genshin Impact Review Project***"
      ]
    },
    {
      "cell_type": "markdown",
      "metadata": {
        "id": "-2b6QH5abY7k"
      },
      "source": [
        "### ***1. Introduction***\n",
        "\n",
        "原神(Genshin Impact) Sentiment Review \n",
        "\n",
        "Objective : to predict the sentiment based on the review of Genshin Impact in Google Play if there are a new user that play the game, then leave a review, this task will predict whether the last review are into three sentiment: Positive, Neutral, or Negative-- and for the continuous improvement to the company since the dataset is considered as a real-time review and it can be an aspiration for the company that create Genshin Impact, \"Hoyoverse\" to improve their product to gain more profit.  "
      ]
    },
    {
      "cell_type": "markdown",
      "metadata": {
        "id": "QaL_r7k0bY7l"
      },
      "source": [
        "### ***2. Import Libraries***"
      ]
    },
    {
      "cell_type": "code",
      "execution_count": 87,
      "metadata": {
        "colab": {
          "base_uri": "https://localhost:8080/"
        },
        "id": "j5y5u2VjbY7l",
        "outputId": "eb0712dc-d9a0-4d28-ef7f-6d8f759102ce"
      },
      "outputs": [
        {
          "name": "stderr",
          "output_type": "stream",
          "text": [
            "[nltk_data] Downloading package stopwords to punkt...\n",
            "[nltk_data]   Package stopwords is already up-to-date!\n"
          ]
        }
      ],
      "source": [
        "# Write your code here\n",
        "\n",
        "# Write your code here\n",
        "\n",
        "# Import Libraries\n",
        "import re\n",
        "import nltk\n",
        "import string\n",
        "import numpy as np\n",
        "import pandas as pd\n",
        "import matplotlib.pyplot as plt\n",
        "import seaborn as sns\n",
        "import pickle\n",
        "import warnings\n",
        "warnings.filterwarnings(\"ignore\")\n",
        "\n",
        "import tensorflow as tf\n",
        "import tensorflow_hub as tf_hub\n",
        "from tensorflow.keras.layers import TextVectorization, Embedding, Dense, LSTM, Bidirectional, GRU, Dropout, Reshape\n",
        "from tensorflow.keras.models import Sequential\n",
        "from tensorflow.keras.utils import to_categorical\n",
        "\n",
        "# Load the data libraries from internet\n",
        "import zipfile\n",
        "import os\n",
        "from os import path\n",
        "from PIL import Image\n",
        "from wordcloud import WordCloud, STOPWORDS, ImageColorGenerator\n",
        "from nltk.tokenize import word_tokenize\n",
        "from nltk.corpus import stopwords\n",
        "from nltk.stem import PorterStemmer, WordNetLemmatizer\n",
        "from sklearn.model_selection import train_test_split\n",
        "from sklearn.feature_extraction.text import CountVectorizer\n",
        "from tensorflow.keras.callbacks import EarlyStopping\n",
        "\n",
        "# Visualisation Word\n",
        "from wordcloud import WordCloud\n",
        "from collections import Counter\n",
        "\n",
        "# Additional NLTK\n",
        "nltk.download('stopwords', 'punkt')\n",
        "\n",
        "# Feature Engineering & Modelling tools\n",
        "from sklearn.compose import ColumnTransformer\n",
        "from sklearn.preprocessing import StandardScaler, MinMaxScaler, OneHotEncoder\n",
        "from sklearn.pipeline import make_pipeline\n",
        "from sklearn.model_selection import RandomizedSearchCV\n",
        "\n",
        "from google.colab import files\n"
      ]
    },
    {
      "cell_type": "code",
      "execution_count": 88,
      "metadata": {
        "colab": {
          "base_uri": "https://localhost:8080/"
        },
        "id": "63J_LVvibY7n",
        "outputId": "04ac2c59-1d50-4857-bb5b-974f7054271c"
      },
      "outputs": [
        {
          "name": "stderr",
          "output_type": "stream",
          "text": [
            "[nltk_data] Downloading package stopwords to /root/nltk_data...\n",
            "[nltk_data]   Package stopwords is already up-to-date!\n",
            "[nltk_data] Downloading package punkt to /root/nltk_data...\n",
            "[nltk_data]   Package punkt is already up-to-date!\n",
            "[nltk_data] Downloading package wordnet to /root/nltk_data...\n",
            "[nltk_data]   Package wordnet is already up-to-date!\n"
          ]
        },
        {
          "data": {
            "text/plain": [
              "True"
            ]
          },
          "execution_count": 88,
          "metadata": {},
          "output_type": "execute_result"
        }
      ],
      "source": [
        "# Download necessary resources\n",
        "nltk.download('stopwords')\n",
        "nltk.download('punkt')\n",
        "nltk.download('wordnet')"
      ]
    },
    {
      "cell_type": "markdown",
      "metadata": {
        "id": "EffJ8VZ_bY7o"
      },
      "source": [
        "### ***3. Data Loading***"
      ]
    },
    {
      "cell_type": "code",
      "execution_count": 89,
      "metadata": {
        "colab": {
          "base_uri": "https://localhost:8080/",
          "height": 423
        },
        "id": "puHhP3IobY7o",
        "outputId": "71905706-4879-4de4-bc2f-560e4b95f022"
      },
      "outputs": [
        {
          "data": {
            "application/vnd.google.colaboratory.intrinsic+json": {
              "summary": "{\n  \"name\": \"df\",\n  \"rows\": 995,\n  \"fields\": [\n    {\n      \"column\": \"review\",\n      \"properties\": {\n        \"dtype\": \"string\",\n        \"num_unique_values\": 944,\n        \"samples\": [\n          \"Gud but stutter so 4 stars\",\n          \"Sh* ty game, racist game wich doesn't care about global Occasions such as Halloween and Christmas etc- the rewards are the worse\",\n          \"It took me a while to level up but it was really fun\"\n        ],\n        \"semantic_type\": \"\",\n        \"description\": \"\"\n      }\n    },\n    {\n      \"column\": \"rating\",\n      \"properties\": {\n        \"dtype\": \"number\",\n        \"std\": 1,\n        \"min\": 1,\n        \"max\": 5,\n        \"num_unique_values\": 5,\n        \"samples\": [\n          4,\n          3,\n          1\n        ],\n        \"semantic_type\": \"\",\n        \"description\": \"\"\n      }\n    }\n  ]\n}",
              "type": "dataframe",
              "variable_name": "df"
            },
            "text/html": [
              "\n",
              "  <div id=\"df-5cc04204-4383-40db-969f-7a38ac46f602\" class=\"colab-df-container\">\n",
              "    <div>\n",
              "<style scoped>\n",
              "    .dataframe tbody tr th:only-of-type {\n",
              "        vertical-align: middle;\n",
              "    }\n",
              "\n",
              "    .dataframe tbody tr th {\n",
              "        vertical-align: top;\n",
              "    }\n",
              "\n",
              "    .dataframe thead th {\n",
              "        text-align: right;\n",
              "    }\n",
              "</style>\n",
              "<table border=\"1\" class=\"dataframe\">\n",
              "  <thead>\n",
              "    <tr style=\"text-align: right;\">\n",
              "      <th></th>\n",
              "      <th>review</th>\n",
              "      <th>rating</th>\n",
              "    </tr>\n",
              "  </thead>\n",
              "  <tbody>\n",
              "    <tr>\n",
              "      <th>0</th>\n",
              "      <td>Absolute Masterpiece i hate the people who gav...</td>\n",
              "      <td>5</td>\n",
              "    </tr>\n",
              "    <tr>\n",
              "      <th>1</th>\n",
              "      <td>amazing but the fandom isn't amazing</td>\n",
              "      <td>5</td>\n",
              "    </tr>\n",
              "    <tr>\n",
              "      <th>2</th>\n",
              "      <td>Very nice</td>\n",
              "      <td>5</td>\n",
              "    </tr>\n",
              "    <tr>\n",
              "      <th>3</th>\n",
              "      <td>Give me gambling money (primo gems)</td>\n",
              "      <td>4</td>\n",
              "    </tr>\n",
              "    <tr>\n",
              "      <th>4</th>\n",
              "      <td>This is one my first Open World RPG games, and...</td>\n",
              "      <td>4</td>\n",
              "    </tr>\n",
              "    <tr>\n",
              "      <th>...</th>\n",
              "      <td>...</td>\n",
              "      <td>...</td>\n",
              "    </tr>\n",
              "    <tr>\n",
              "      <th>990</th>\n",
              "      <td>Yeah</td>\n",
              "      <td>4</td>\n",
              "    </tr>\n",
              "    <tr>\n",
              "      <th>991</th>\n",
              "      <td>Getting bored</td>\n",
              "      <td>3</td>\n",
              "    </tr>\n",
              "    <tr>\n",
              "      <th>992</th>\n",
              "      <td>This game sucks</td>\n",
              "      <td>1</td>\n",
              "    </tr>\n",
              "    <tr>\n",
              "      <th>993</th>\n",
              "      <td>\"If Adventuring in Teyvat was a dream, Genshin...</td>\n",
              "      <td>5</td>\n",
              "    </tr>\n",
              "    <tr>\n",
              "      <th>994</th>\n",
              "      <td>I love this game it's so slay 🥰😍💅✨🤩🤑🤭🔥🤯😇😃😘😜☺️❤️💖👍</td>\n",
              "      <td>5</td>\n",
              "    </tr>\n",
              "  </tbody>\n",
              "</table>\n",
              "<p>995 rows × 2 columns</p>\n",
              "</div>\n",
              "    <div class=\"colab-df-buttons\">\n",
              "\n",
              "  <div class=\"colab-df-container\">\n",
              "    <button class=\"colab-df-convert\" onclick=\"convertToInteractive('df-5cc04204-4383-40db-969f-7a38ac46f602')\"\n",
              "            title=\"Convert this dataframe to an interactive table.\"\n",
              "            style=\"display:none;\">\n",
              "\n",
              "  <svg xmlns=\"http://www.w3.org/2000/svg\" height=\"24px\" viewBox=\"0 -960 960 960\">\n",
              "    <path d=\"M120-120v-720h720v720H120Zm60-500h600v-160H180v160Zm220 220h160v-160H400v160Zm0 220h160v-160H400v160ZM180-400h160v-160H180v160Zm440 0h160v-160H620v160ZM180-180h160v-160H180v160Zm440 0h160v-160H620v160Z\"/>\n",
              "  </svg>\n",
              "    </button>\n",
              "\n",
              "  <style>\n",
              "    .colab-df-container {\n",
              "      display:flex;\n",
              "      gap: 12px;\n",
              "    }\n",
              "\n",
              "    .colab-df-convert {\n",
              "      background-color: #E8F0FE;\n",
              "      border: none;\n",
              "      border-radius: 50%;\n",
              "      cursor: pointer;\n",
              "      display: none;\n",
              "      fill: #1967D2;\n",
              "      height: 32px;\n",
              "      padding: 0 0 0 0;\n",
              "      width: 32px;\n",
              "    }\n",
              "\n",
              "    .colab-df-convert:hover {\n",
              "      background-color: #E2EBFA;\n",
              "      box-shadow: 0px 1px 2px rgba(60, 64, 67, 0.3), 0px 1px 3px 1px rgba(60, 64, 67, 0.15);\n",
              "      fill: #174EA6;\n",
              "    }\n",
              "\n",
              "    .colab-df-buttons div {\n",
              "      margin-bottom: 4px;\n",
              "    }\n",
              "\n",
              "    [theme=dark] .colab-df-convert {\n",
              "      background-color: #3B4455;\n",
              "      fill: #D2E3FC;\n",
              "    }\n",
              "\n",
              "    [theme=dark] .colab-df-convert:hover {\n",
              "      background-color: #434B5C;\n",
              "      box-shadow: 0px 1px 3px 1px rgba(0, 0, 0, 0.15);\n",
              "      filter: drop-shadow(0px 1px 2px rgba(0, 0, 0, 0.3));\n",
              "      fill: #FFFFFF;\n",
              "    }\n",
              "  </style>\n",
              "\n",
              "    <script>\n",
              "      const buttonEl =\n",
              "        document.querySelector('#df-5cc04204-4383-40db-969f-7a38ac46f602 button.colab-df-convert');\n",
              "      buttonEl.style.display =\n",
              "        google.colab.kernel.accessAllowed ? 'block' : 'none';\n",
              "\n",
              "      async function convertToInteractive(key) {\n",
              "        const element = document.querySelector('#df-5cc04204-4383-40db-969f-7a38ac46f602');\n",
              "        const dataTable =\n",
              "          await google.colab.kernel.invokeFunction('convertToInteractive',\n",
              "                                                    [key], {});\n",
              "        if (!dataTable) return;\n",
              "\n",
              "        const docLinkHtml = 'Like what you see? Visit the ' +\n",
              "          '<a target=\"_blank\" href=https://colab.research.google.com/notebooks/data_table.ipynb>data table notebook</a>'\n",
              "          + ' to learn more about interactive tables.';\n",
              "        element.innerHTML = '';\n",
              "        dataTable['output_type'] = 'display_data';\n",
              "        await google.colab.output.renderOutput(dataTable, element);\n",
              "        const docLink = document.createElement('div');\n",
              "        docLink.innerHTML = docLinkHtml;\n",
              "        element.appendChild(docLink);\n",
              "      }\n",
              "    </script>\n",
              "  </div>\n",
              "\n",
              "\n",
              "<div id=\"df-3ffdfe5a-2909-4449-908f-ca7d771d6199\">\n",
              "  <button class=\"colab-df-quickchart\" onclick=\"quickchart('df-3ffdfe5a-2909-4449-908f-ca7d771d6199')\"\n",
              "            title=\"Suggest charts\"\n",
              "            style=\"display:none;\">\n",
              "\n",
              "<svg xmlns=\"http://www.w3.org/2000/svg\" height=\"24px\"viewBox=\"0 0 24 24\"\n",
              "     width=\"24px\">\n",
              "    <g>\n",
              "        <path d=\"M19 3H5c-1.1 0-2 .9-2 2v14c0 1.1.9 2 2 2h14c1.1 0 2-.9 2-2V5c0-1.1-.9-2-2-2zM9 17H7v-7h2v7zm4 0h-2V7h2v10zm4 0h-2v-4h2v4z\"/>\n",
              "    </g>\n",
              "</svg>\n",
              "  </button>\n",
              "\n",
              "<style>\n",
              "  .colab-df-quickchart {\n",
              "      --bg-color: #E8F0FE;\n",
              "      --fill-color: #1967D2;\n",
              "      --hover-bg-color: #E2EBFA;\n",
              "      --hover-fill-color: #174EA6;\n",
              "      --disabled-fill-color: #AAA;\n",
              "      --disabled-bg-color: #DDD;\n",
              "  }\n",
              "\n",
              "  [theme=dark] .colab-df-quickchart {\n",
              "      --bg-color: #3B4455;\n",
              "      --fill-color: #D2E3FC;\n",
              "      --hover-bg-color: #434B5C;\n",
              "      --hover-fill-color: #FFFFFF;\n",
              "      --disabled-bg-color: #3B4455;\n",
              "      --disabled-fill-color: #666;\n",
              "  }\n",
              "\n",
              "  .colab-df-quickchart {\n",
              "    background-color: var(--bg-color);\n",
              "    border: none;\n",
              "    border-radius: 50%;\n",
              "    cursor: pointer;\n",
              "    display: none;\n",
              "    fill: var(--fill-color);\n",
              "    height: 32px;\n",
              "    padding: 0;\n",
              "    width: 32px;\n",
              "  }\n",
              "\n",
              "  .colab-df-quickchart:hover {\n",
              "    background-color: var(--hover-bg-color);\n",
              "    box-shadow: 0 1px 2px rgba(60, 64, 67, 0.3), 0 1px 3px 1px rgba(60, 64, 67, 0.15);\n",
              "    fill: var(--button-hover-fill-color);\n",
              "  }\n",
              "\n",
              "  .colab-df-quickchart-complete:disabled,\n",
              "  .colab-df-quickchart-complete:disabled:hover {\n",
              "    background-color: var(--disabled-bg-color);\n",
              "    fill: var(--disabled-fill-color);\n",
              "    box-shadow: none;\n",
              "  }\n",
              "\n",
              "  .colab-df-spinner {\n",
              "    border: 2px solid var(--fill-color);\n",
              "    border-color: transparent;\n",
              "    border-bottom-color: var(--fill-color);\n",
              "    animation:\n",
              "      spin 1s steps(1) infinite;\n",
              "  }\n",
              "\n",
              "  @keyframes spin {\n",
              "    0% {\n",
              "      border-color: transparent;\n",
              "      border-bottom-color: var(--fill-color);\n",
              "      border-left-color: var(--fill-color);\n",
              "    }\n",
              "    20% {\n",
              "      border-color: transparent;\n",
              "      border-left-color: var(--fill-color);\n",
              "      border-top-color: var(--fill-color);\n",
              "    }\n",
              "    30% {\n",
              "      border-color: transparent;\n",
              "      border-left-color: var(--fill-color);\n",
              "      border-top-color: var(--fill-color);\n",
              "      border-right-color: var(--fill-color);\n",
              "    }\n",
              "    40% {\n",
              "      border-color: transparent;\n",
              "      border-right-color: var(--fill-color);\n",
              "      border-top-color: var(--fill-color);\n",
              "    }\n",
              "    60% {\n",
              "      border-color: transparent;\n",
              "      border-right-color: var(--fill-color);\n",
              "    }\n",
              "    80% {\n",
              "      border-color: transparent;\n",
              "      border-right-color: var(--fill-color);\n",
              "      border-bottom-color: var(--fill-color);\n",
              "    }\n",
              "    90% {\n",
              "      border-color: transparent;\n",
              "      border-bottom-color: var(--fill-color);\n",
              "    }\n",
              "  }\n",
              "</style>\n",
              "\n",
              "  <script>\n",
              "    async function quickchart(key) {\n",
              "      const quickchartButtonEl =\n",
              "        document.querySelector('#' + key + ' button');\n",
              "      quickchartButtonEl.disabled = true;  // To prevent multiple clicks.\n",
              "      quickchartButtonEl.classList.add('colab-df-spinner');\n",
              "      try {\n",
              "        const charts = await google.colab.kernel.invokeFunction(\n",
              "            'suggestCharts', [key], {});\n",
              "      } catch (error) {\n",
              "        console.error('Error during call to suggestCharts:', error);\n",
              "      }\n",
              "      quickchartButtonEl.classList.remove('colab-df-spinner');\n",
              "      quickchartButtonEl.classList.add('colab-df-quickchart-complete');\n",
              "    }\n",
              "    (() => {\n",
              "      let quickchartButtonEl =\n",
              "        document.querySelector('#df-3ffdfe5a-2909-4449-908f-ca7d771d6199 button');\n",
              "      quickchartButtonEl.style.display =\n",
              "        google.colab.kernel.accessAllowed ? 'block' : 'none';\n",
              "    })();\n",
              "  </script>\n",
              "</div>\n",
              "    </div>\n",
              "  </div>\n"
            ],
            "text/plain": [
              "                                                review  rating\n",
              "0    Absolute Masterpiece i hate the people who gav...       5\n",
              "1                 amazing but the fandom isn't amazing       5\n",
              "2                                            Very nice       5\n",
              "3                  Give me gambling money (primo gems)       4\n",
              "4    This is one my first Open World RPG games, and...       4\n",
              "..                                                 ...     ...\n",
              "990                                               Yeah       4\n",
              "991                                      Getting bored       3\n",
              "992                                    This game sucks       1\n",
              "993  \"If Adventuring in Teyvat was a dream, Genshin...       5\n",
              "994  I love this game it's so slay 🥰😍💅✨🤩🤑🤭🔥🤯😇😃😘😜☺️❤️💖👍       5\n",
              "\n",
              "[995 rows x 2 columns]"
            ]
          },
          "execution_count": 89,
          "metadata": {},
          "output_type": "execute_result"
        }
      ],
      "source": [
        "# Write your code here\n",
        "df = pd.read_csv('genshin_review.csv')\n",
        "\n",
        "# Call the set variable\n",
        "df"
      ]
    },
    {
      "cell_type": "code",
      "execution_count": 90,
      "metadata": {
        "colab": {
          "base_uri": "https://localhost:8080/"
        },
        "id": "_7D-eQ_bbY7p",
        "outputId": "df6621f5-84e4-4aeb-d93b-708484374d79"
      },
      "outputs": [
        {
          "name": "stdout",
          "output_type": "stream",
          "text": [
            "<class 'pandas.core.frame.DataFrame'>\n",
            "RangeIndex: 995 entries, 0 to 994\n",
            "Data columns (total 2 columns):\n",
            " #   Column  Non-Null Count  Dtype \n",
            "---  ------  --------------  ----- \n",
            " 0   review  995 non-null    object\n",
            " 1   rating  995 non-null    int64 \n",
            "dtypes: int64(1), object(1)\n",
            "memory usage: 15.7+ KB\n"
          ]
        }
      ],
      "source": [
        "# Check the info detail\n",
        "df.info()"
      ]
    },
    {
      "cell_type": "code",
      "execution_count": 91,
      "metadata": {
        "colab": {
          "base_uri": "https://localhost:8080/",
          "height": 423
        },
        "id": "nDJrMoXwbY7p",
        "outputId": "a13a01cc-dea9-4a8b-bf71-98f9f0276291"
      },
      "outputs": [
        {
          "data": {
            "application/vnd.google.colaboratory.intrinsic+json": {
              "summary": "{\n  \"name\": \"df\",\n  \"rows\": 995,\n  \"fields\": [\n    {\n      \"column\": \"review\",\n      \"properties\": {\n        \"dtype\": \"string\",\n        \"num_unique_values\": 944,\n        \"samples\": [\n          \"Gud but stutter so 4 stars\",\n          \"Sh* ty game, racist game wich doesn't care about global Occasions such as Halloween and Christmas etc- the rewards are the worse\",\n          \"It took me a while to level up but it was really fun\"\n        ],\n        \"semantic_type\": \"\",\n        \"description\": \"\"\n      }\n    },\n    {\n      \"column\": \"sentiment\",\n      \"properties\": {\n        \"dtype\": \"number\",\n        \"std\": 1,\n        \"min\": 1,\n        \"max\": 5,\n        \"num_unique_values\": 5,\n        \"samples\": [\n          4,\n          3,\n          1\n        ],\n        \"semantic_type\": \"\",\n        \"description\": \"\"\n      }\n    }\n  ]\n}",
              "type": "dataframe",
              "variable_name": "df"
            },
            "text/html": [
              "\n",
              "  <div id=\"df-262ef08a-4b26-4421-bab7-88f629f4a8f6\" class=\"colab-df-container\">\n",
              "    <div>\n",
              "<style scoped>\n",
              "    .dataframe tbody tr th:only-of-type {\n",
              "        vertical-align: middle;\n",
              "    }\n",
              "\n",
              "    .dataframe tbody tr th {\n",
              "        vertical-align: top;\n",
              "    }\n",
              "\n",
              "    .dataframe thead th {\n",
              "        text-align: right;\n",
              "    }\n",
              "</style>\n",
              "<table border=\"1\" class=\"dataframe\">\n",
              "  <thead>\n",
              "    <tr style=\"text-align: right;\">\n",
              "      <th></th>\n",
              "      <th>review</th>\n",
              "      <th>sentiment</th>\n",
              "    </tr>\n",
              "  </thead>\n",
              "  <tbody>\n",
              "    <tr>\n",
              "      <th>0</th>\n",
              "      <td>Absolute Masterpiece i hate the people who gav...</td>\n",
              "      <td>5</td>\n",
              "    </tr>\n",
              "    <tr>\n",
              "      <th>1</th>\n",
              "      <td>amazing but the fandom isn't amazing</td>\n",
              "      <td>5</td>\n",
              "    </tr>\n",
              "    <tr>\n",
              "      <th>2</th>\n",
              "      <td>Very nice</td>\n",
              "      <td>5</td>\n",
              "    </tr>\n",
              "    <tr>\n",
              "      <th>3</th>\n",
              "      <td>Give me gambling money (primo gems)</td>\n",
              "      <td>4</td>\n",
              "    </tr>\n",
              "    <tr>\n",
              "      <th>4</th>\n",
              "      <td>This is one my first Open World RPG games, and...</td>\n",
              "      <td>4</td>\n",
              "    </tr>\n",
              "    <tr>\n",
              "      <th>...</th>\n",
              "      <td>...</td>\n",
              "      <td>...</td>\n",
              "    </tr>\n",
              "    <tr>\n",
              "      <th>990</th>\n",
              "      <td>Yeah</td>\n",
              "      <td>4</td>\n",
              "    </tr>\n",
              "    <tr>\n",
              "      <th>991</th>\n",
              "      <td>Getting bored</td>\n",
              "      <td>3</td>\n",
              "    </tr>\n",
              "    <tr>\n",
              "      <th>992</th>\n",
              "      <td>This game sucks</td>\n",
              "      <td>1</td>\n",
              "    </tr>\n",
              "    <tr>\n",
              "      <th>993</th>\n",
              "      <td>\"If Adventuring in Teyvat was a dream, Genshin...</td>\n",
              "      <td>5</td>\n",
              "    </tr>\n",
              "    <tr>\n",
              "      <th>994</th>\n",
              "      <td>I love this game it's so slay 🥰😍💅✨🤩🤑🤭🔥🤯😇😃😘😜☺️❤️💖👍</td>\n",
              "      <td>5</td>\n",
              "    </tr>\n",
              "  </tbody>\n",
              "</table>\n",
              "<p>995 rows × 2 columns</p>\n",
              "</div>\n",
              "    <div class=\"colab-df-buttons\">\n",
              "\n",
              "  <div class=\"colab-df-container\">\n",
              "    <button class=\"colab-df-convert\" onclick=\"convertToInteractive('df-262ef08a-4b26-4421-bab7-88f629f4a8f6')\"\n",
              "            title=\"Convert this dataframe to an interactive table.\"\n",
              "            style=\"display:none;\">\n",
              "\n",
              "  <svg xmlns=\"http://www.w3.org/2000/svg\" height=\"24px\" viewBox=\"0 -960 960 960\">\n",
              "    <path d=\"M120-120v-720h720v720H120Zm60-500h600v-160H180v160Zm220 220h160v-160H400v160Zm0 220h160v-160H400v160ZM180-400h160v-160H180v160Zm440 0h160v-160H620v160ZM180-180h160v-160H180v160Zm440 0h160v-160H620v160Z\"/>\n",
              "  </svg>\n",
              "    </button>\n",
              "\n",
              "  <style>\n",
              "    .colab-df-container {\n",
              "      display:flex;\n",
              "      gap: 12px;\n",
              "    }\n",
              "\n",
              "    .colab-df-convert {\n",
              "      background-color: #E8F0FE;\n",
              "      border: none;\n",
              "      border-radius: 50%;\n",
              "      cursor: pointer;\n",
              "      display: none;\n",
              "      fill: #1967D2;\n",
              "      height: 32px;\n",
              "      padding: 0 0 0 0;\n",
              "      width: 32px;\n",
              "    }\n",
              "\n",
              "    .colab-df-convert:hover {\n",
              "      background-color: #E2EBFA;\n",
              "      box-shadow: 0px 1px 2px rgba(60, 64, 67, 0.3), 0px 1px 3px 1px rgba(60, 64, 67, 0.15);\n",
              "      fill: #174EA6;\n",
              "    }\n",
              "\n",
              "    .colab-df-buttons div {\n",
              "      margin-bottom: 4px;\n",
              "    }\n",
              "\n",
              "    [theme=dark] .colab-df-convert {\n",
              "      background-color: #3B4455;\n",
              "      fill: #D2E3FC;\n",
              "    }\n",
              "\n",
              "    [theme=dark] .colab-df-convert:hover {\n",
              "      background-color: #434B5C;\n",
              "      box-shadow: 0px 1px 3px 1px rgba(0, 0, 0, 0.15);\n",
              "      filter: drop-shadow(0px 1px 2px rgba(0, 0, 0, 0.3));\n",
              "      fill: #FFFFFF;\n",
              "    }\n",
              "  </style>\n",
              "\n",
              "    <script>\n",
              "      const buttonEl =\n",
              "        document.querySelector('#df-262ef08a-4b26-4421-bab7-88f629f4a8f6 button.colab-df-convert');\n",
              "      buttonEl.style.display =\n",
              "        google.colab.kernel.accessAllowed ? 'block' : 'none';\n",
              "\n",
              "      async function convertToInteractive(key) {\n",
              "        const element = document.querySelector('#df-262ef08a-4b26-4421-bab7-88f629f4a8f6');\n",
              "        const dataTable =\n",
              "          await google.colab.kernel.invokeFunction('convertToInteractive',\n",
              "                                                    [key], {});\n",
              "        if (!dataTable) return;\n",
              "\n",
              "        const docLinkHtml = 'Like what you see? Visit the ' +\n",
              "          '<a target=\"_blank\" href=https://colab.research.google.com/notebooks/data_table.ipynb>data table notebook</a>'\n",
              "          + ' to learn more about interactive tables.';\n",
              "        element.innerHTML = '';\n",
              "        dataTable['output_type'] = 'display_data';\n",
              "        await google.colab.output.renderOutput(dataTable, element);\n",
              "        const docLink = document.createElement('div');\n",
              "        docLink.innerHTML = docLinkHtml;\n",
              "        element.appendChild(docLink);\n",
              "      }\n",
              "    </script>\n",
              "  </div>\n",
              "\n",
              "\n",
              "<div id=\"df-3f23c3c4-9787-4795-9f74-388e95462625\">\n",
              "  <button class=\"colab-df-quickchart\" onclick=\"quickchart('df-3f23c3c4-9787-4795-9f74-388e95462625')\"\n",
              "            title=\"Suggest charts\"\n",
              "            style=\"display:none;\">\n",
              "\n",
              "<svg xmlns=\"http://www.w3.org/2000/svg\" height=\"24px\"viewBox=\"0 0 24 24\"\n",
              "     width=\"24px\">\n",
              "    <g>\n",
              "        <path d=\"M19 3H5c-1.1 0-2 .9-2 2v14c0 1.1.9 2 2 2h14c1.1 0 2-.9 2-2V5c0-1.1-.9-2-2-2zM9 17H7v-7h2v7zm4 0h-2V7h2v10zm4 0h-2v-4h2v4z\"/>\n",
              "    </g>\n",
              "</svg>\n",
              "  </button>\n",
              "\n",
              "<style>\n",
              "  .colab-df-quickchart {\n",
              "      --bg-color: #E8F0FE;\n",
              "      --fill-color: #1967D2;\n",
              "      --hover-bg-color: #E2EBFA;\n",
              "      --hover-fill-color: #174EA6;\n",
              "      --disabled-fill-color: #AAA;\n",
              "      --disabled-bg-color: #DDD;\n",
              "  }\n",
              "\n",
              "  [theme=dark] .colab-df-quickchart {\n",
              "      --bg-color: #3B4455;\n",
              "      --fill-color: #D2E3FC;\n",
              "      --hover-bg-color: #434B5C;\n",
              "      --hover-fill-color: #FFFFFF;\n",
              "      --disabled-bg-color: #3B4455;\n",
              "      --disabled-fill-color: #666;\n",
              "  }\n",
              "\n",
              "  .colab-df-quickchart {\n",
              "    background-color: var(--bg-color);\n",
              "    border: none;\n",
              "    border-radius: 50%;\n",
              "    cursor: pointer;\n",
              "    display: none;\n",
              "    fill: var(--fill-color);\n",
              "    height: 32px;\n",
              "    padding: 0;\n",
              "    width: 32px;\n",
              "  }\n",
              "\n",
              "  .colab-df-quickchart:hover {\n",
              "    background-color: var(--hover-bg-color);\n",
              "    box-shadow: 0 1px 2px rgba(60, 64, 67, 0.3), 0 1px 3px 1px rgba(60, 64, 67, 0.15);\n",
              "    fill: var(--button-hover-fill-color);\n",
              "  }\n",
              "\n",
              "  .colab-df-quickchart-complete:disabled,\n",
              "  .colab-df-quickchart-complete:disabled:hover {\n",
              "    background-color: var(--disabled-bg-color);\n",
              "    fill: var(--disabled-fill-color);\n",
              "    box-shadow: none;\n",
              "  }\n",
              "\n",
              "  .colab-df-spinner {\n",
              "    border: 2px solid var(--fill-color);\n",
              "    border-color: transparent;\n",
              "    border-bottom-color: var(--fill-color);\n",
              "    animation:\n",
              "      spin 1s steps(1) infinite;\n",
              "  }\n",
              "\n",
              "  @keyframes spin {\n",
              "    0% {\n",
              "      border-color: transparent;\n",
              "      border-bottom-color: var(--fill-color);\n",
              "      border-left-color: var(--fill-color);\n",
              "    }\n",
              "    20% {\n",
              "      border-color: transparent;\n",
              "      border-left-color: var(--fill-color);\n",
              "      border-top-color: var(--fill-color);\n",
              "    }\n",
              "    30% {\n",
              "      border-color: transparent;\n",
              "      border-left-color: var(--fill-color);\n",
              "      border-top-color: var(--fill-color);\n",
              "      border-right-color: var(--fill-color);\n",
              "    }\n",
              "    40% {\n",
              "      border-color: transparent;\n",
              "      border-right-color: var(--fill-color);\n",
              "      border-top-color: var(--fill-color);\n",
              "    }\n",
              "    60% {\n",
              "      border-color: transparent;\n",
              "      border-right-color: var(--fill-color);\n",
              "    }\n",
              "    80% {\n",
              "      border-color: transparent;\n",
              "      border-right-color: var(--fill-color);\n",
              "      border-bottom-color: var(--fill-color);\n",
              "    }\n",
              "    90% {\n",
              "      border-color: transparent;\n",
              "      border-bottom-color: var(--fill-color);\n",
              "    }\n",
              "  }\n",
              "</style>\n",
              "\n",
              "  <script>\n",
              "    async function quickchart(key) {\n",
              "      const quickchartButtonEl =\n",
              "        document.querySelector('#' + key + ' button');\n",
              "      quickchartButtonEl.disabled = true;  // To prevent multiple clicks.\n",
              "      quickchartButtonEl.classList.add('colab-df-spinner');\n",
              "      try {\n",
              "        const charts = await google.colab.kernel.invokeFunction(\n",
              "            'suggestCharts', [key], {});\n",
              "      } catch (error) {\n",
              "        console.error('Error during call to suggestCharts:', error);\n",
              "      }\n",
              "      quickchartButtonEl.classList.remove('colab-df-spinner');\n",
              "      quickchartButtonEl.classList.add('colab-df-quickchart-complete');\n",
              "    }\n",
              "    (() => {\n",
              "      let quickchartButtonEl =\n",
              "        document.querySelector('#df-3f23c3c4-9787-4795-9f74-388e95462625 button');\n",
              "      quickchartButtonEl.style.display =\n",
              "        google.colab.kernel.accessAllowed ? 'block' : 'none';\n",
              "    })();\n",
              "  </script>\n",
              "</div>\n",
              "    </div>\n",
              "  </div>\n"
            ],
            "text/plain": [
              "                                                review  sentiment\n",
              "0    Absolute Masterpiece i hate the people who gav...          5\n",
              "1                 amazing but the fandom isn't amazing          5\n",
              "2                                            Very nice          5\n",
              "3                  Give me gambling money (primo gems)          4\n",
              "4    This is one my first Open World RPG games, and...          4\n",
              "..                                                 ...        ...\n",
              "990                                               Yeah          4\n",
              "991                                      Getting bored          3\n",
              "992                                    This game sucks          1\n",
              "993  \"If Adventuring in Teyvat was a dream, Genshin...          5\n",
              "994  I love this game it's so slay 🥰😍💅✨🤩🤑🤭🔥🤯😇😃😘😜☺️❤️💖👍          5\n",
              "\n",
              "[995 rows x 2 columns]"
            ]
          },
          "execution_count": 91,
          "metadata": {},
          "output_type": "execute_result"
        }
      ],
      "source": [
        "# Rename the column name from rating to sentiment\n",
        "df = df.rename(columns={'rating': 'sentiment'})\n",
        "\n",
        "# Call the set variable\n",
        "df"
      ]
    },
    {
      "cell_type": "code",
      "execution_count": 92,
      "metadata": {
        "colab": {
          "base_uri": "https://localhost:8080/"
        },
        "id": "EgEE5fU8bY7p",
        "outputId": "581f6c40-1d18-4068-a61d-0076dca94c5e"
      },
      "outputs": [
        {
          "data": {
            "text/plain": [
              "47"
            ]
          },
          "execution_count": 92,
          "metadata": {},
          "output_type": "execute_result"
        }
      ],
      "source": [
        "# Observe the duplicated rows within the dataset\n",
        "df.duplicated().sum()"
      ]
    },
    {
      "cell_type": "code",
      "execution_count": 93,
      "metadata": {
        "colab": {
          "base_uri": "https://localhost:8080/"
        },
        "id": "mYIHOagvbY7q",
        "outputId": "83794773-75a5-4228-d8cb-f882d7bc8189"
      },
      "outputs": [
        {
          "data": {
            "text/plain": [
              "0"
            ]
          },
          "execution_count": 93,
          "metadata": {},
          "output_type": "execute_result"
        }
      ],
      "source": [
        "# Drop the duplicated rows within the dataset\n",
        "df = df.drop_duplicates()\n",
        "\n",
        "# Observe again after checking the duplicated rows\n",
        "df.duplicated().sum()"
      ]
    },
    {
      "cell_type": "code",
      "execution_count": 94,
      "metadata": {
        "colab": {
          "base_uri": "https://localhost:8080/"
        },
        "id": "4VLgbR2_bY7q",
        "outputId": "23b96ee2-cf26-4278-963c-c6ba8a7c924f"
      },
      "outputs": [
        {
          "name": "stdout",
          "output_type": "stream",
          "text": [
            "Total of IMV for each columns:\n",
            "review       0\n",
            "sentiment    0\n",
            "dtype: int64\n"
          ]
        }
      ],
      "source": [
        "# Observe the IMV\n",
        "missingValues = df.isnull().sum()\n",
        "print(\"Total of IMV for each columns:\")\n",
        "print(missingValues)"
      ]
    },
    {
      "cell_type": "code",
      "execution_count": 95,
      "metadata": {
        "colab": {
          "base_uri": "https://localhost:8080/"
        },
        "id": "lu_TgN_ZbY7r",
        "outputId": "6bd6b8cd-dfdc-49c9-e3dc-bee61836a266"
      },
      "outputs": [
        {
          "data": {
            "text/plain": [
              "review       944\n",
              "sentiment      5\n",
              "dtype: int64"
            ]
          },
          "execution_count": 95,
          "metadata": {},
          "output_type": "execute_result"
        }
      ],
      "source": [
        "# Observe the unique's dataset\n",
        "df.nunique()"
      ]
    },
    {
      "cell_type": "code",
      "execution_count": 96,
      "metadata": {
        "colab": {
          "base_uri": "https://localhost:8080/",
          "height": 300
        },
        "id": "1A1likRnbY7s",
        "outputId": "835338d0-2115-4f7d-8aff-a3619a41e086"
      },
      "outputs": [
        {
          "data": {
            "application/vnd.google.colaboratory.intrinsic+json": {
              "summary": "{\n  \"name\": \"df\",\n  \"rows\": 8,\n  \"fields\": [\n    {\n      \"column\": \"sentiment\",\n      \"properties\": {\n        \"dtype\": \"number\",\n        \"std\": 333.9932372900508,\n        \"min\": 1.0,\n        \"max\": 948.0,\n        \"num_unique_values\": 6,\n        \"samples\": [\n          948.0,\n          3.6561181434599157,\n          5.0\n        ],\n        \"semantic_type\": \"\",\n        \"description\": \"\"\n      }\n    }\n  ]\n}",
              "type": "dataframe"
            },
            "text/html": [
              "\n",
              "  <div id=\"df-3a68a07d-702e-446a-821c-eac8b9152ee5\" class=\"colab-df-container\">\n",
              "    <div>\n",
              "<style scoped>\n",
              "    .dataframe tbody tr th:only-of-type {\n",
              "        vertical-align: middle;\n",
              "    }\n",
              "\n",
              "    .dataframe tbody tr th {\n",
              "        vertical-align: top;\n",
              "    }\n",
              "\n",
              "    .dataframe thead th {\n",
              "        text-align: right;\n",
              "    }\n",
              "</style>\n",
              "<table border=\"1\" class=\"dataframe\">\n",
              "  <thead>\n",
              "    <tr style=\"text-align: right;\">\n",
              "      <th></th>\n",
              "      <th>sentiment</th>\n",
              "    </tr>\n",
              "  </thead>\n",
              "  <tbody>\n",
              "    <tr>\n",
              "      <th>count</th>\n",
              "      <td>948.000000</td>\n",
              "    </tr>\n",
              "    <tr>\n",
              "      <th>mean</th>\n",
              "      <td>3.656118</td>\n",
              "    </tr>\n",
              "    <tr>\n",
              "      <th>std</th>\n",
              "      <td>1.692862</td>\n",
              "    </tr>\n",
              "    <tr>\n",
              "      <th>min</th>\n",
              "      <td>1.000000</td>\n",
              "    </tr>\n",
              "    <tr>\n",
              "      <th>25%</th>\n",
              "      <td>2.000000</td>\n",
              "    </tr>\n",
              "    <tr>\n",
              "      <th>50%</th>\n",
              "      <td>5.000000</td>\n",
              "    </tr>\n",
              "    <tr>\n",
              "      <th>75%</th>\n",
              "      <td>5.000000</td>\n",
              "    </tr>\n",
              "    <tr>\n",
              "      <th>max</th>\n",
              "      <td>5.000000</td>\n",
              "    </tr>\n",
              "  </tbody>\n",
              "</table>\n",
              "</div>\n",
              "    <div class=\"colab-df-buttons\">\n",
              "\n",
              "  <div class=\"colab-df-container\">\n",
              "    <button class=\"colab-df-convert\" onclick=\"convertToInteractive('df-3a68a07d-702e-446a-821c-eac8b9152ee5')\"\n",
              "            title=\"Convert this dataframe to an interactive table.\"\n",
              "            style=\"display:none;\">\n",
              "\n",
              "  <svg xmlns=\"http://www.w3.org/2000/svg\" height=\"24px\" viewBox=\"0 -960 960 960\">\n",
              "    <path d=\"M120-120v-720h720v720H120Zm60-500h600v-160H180v160Zm220 220h160v-160H400v160Zm0 220h160v-160H400v160ZM180-400h160v-160H180v160Zm440 0h160v-160H620v160ZM180-180h160v-160H180v160Zm440 0h160v-160H620v160Z\"/>\n",
              "  </svg>\n",
              "    </button>\n",
              "\n",
              "  <style>\n",
              "    .colab-df-container {\n",
              "      display:flex;\n",
              "      gap: 12px;\n",
              "    }\n",
              "\n",
              "    .colab-df-convert {\n",
              "      background-color: #E8F0FE;\n",
              "      border: none;\n",
              "      border-radius: 50%;\n",
              "      cursor: pointer;\n",
              "      display: none;\n",
              "      fill: #1967D2;\n",
              "      height: 32px;\n",
              "      padding: 0 0 0 0;\n",
              "      width: 32px;\n",
              "    }\n",
              "\n",
              "    .colab-df-convert:hover {\n",
              "      background-color: #E2EBFA;\n",
              "      box-shadow: 0px 1px 2px rgba(60, 64, 67, 0.3), 0px 1px 3px 1px rgba(60, 64, 67, 0.15);\n",
              "      fill: #174EA6;\n",
              "    }\n",
              "\n",
              "    .colab-df-buttons div {\n",
              "      margin-bottom: 4px;\n",
              "    }\n",
              "\n",
              "    [theme=dark] .colab-df-convert {\n",
              "      background-color: #3B4455;\n",
              "      fill: #D2E3FC;\n",
              "    }\n",
              "\n",
              "    [theme=dark] .colab-df-convert:hover {\n",
              "      background-color: #434B5C;\n",
              "      box-shadow: 0px 1px 3px 1px rgba(0, 0, 0, 0.15);\n",
              "      filter: drop-shadow(0px 1px 2px rgba(0, 0, 0, 0.3));\n",
              "      fill: #FFFFFF;\n",
              "    }\n",
              "  </style>\n",
              "\n",
              "    <script>\n",
              "      const buttonEl =\n",
              "        document.querySelector('#df-3a68a07d-702e-446a-821c-eac8b9152ee5 button.colab-df-convert');\n",
              "      buttonEl.style.display =\n",
              "        google.colab.kernel.accessAllowed ? 'block' : 'none';\n",
              "\n",
              "      async function convertToInteractive(key) {\n",
              "        const element = document.querySelector('#df-3a68a07d-702e-446a-821c-eac8b9152ee5');\n",
              "        const dataTable =\n",
              "          await google.colab.kernel.invokeFunction('convertToInteractive',\n",
              "                                                    [key], {});\n",
              "        if (!dataTable) return;\n",
              "\n",
              "        const docLinkHtml = 'Like what you see? Visit the ' +\n",
              "          '<a target=\"_blank\" href=https://colab.research.google.com/notebooks/data_table.ipynb>data table notebook</a>'\n",
              "          + ' to learn more about interactive tables.';\n",
              "        element.innerHTML = '';\n",
              "        dataTable['output_type'] = 'display_data';\n",
              "        await google.colab.output.renderOutput(dataTable, element);\n",
              "        const docLink = document.createElement('div');\n",
              "        docLink.innerHTML = docLinkHtml;\n",
              "        element.appendChild(docLink);\n",
              "      }\n",
              "    </script>\n",
              "  </div>\n",
              "\n",
              "\n",
              "<div id=\"df-cd2ea2e6-cfcf-4527-a697-b2c9c2c53017\">\n",
              "  <button class=\"colab-df-quickchart\" onclick=\"quickchart('df-cd2ea2e6-cfcf-4527-a697-b2c9c2c53017')\"\n",
              "            title=\"Suggest charts\"\n",
              "            style=\"display:none;\">\n",
              "\n",
              "<svg xmlns=\"http://www.w3.org/2000/svg\" height=\"24px\"viewBox=\"0 0 24 24\"\n",
              "     width=\"24px\">\n",
              "    <g>\n",
              "        <path d=\"M19 3H5c-1.1 0-2 .9-2 2v14c0 1.1.9 2 2 2h14c1.1 0 2-.9 2-2V5c0-1.1-.9-2-2-2zM9 17H7v-7h2v7zm4 0h-2V7h2v10zm4 0h-2v-4h2v4z\"/>\n",
              "    </g>\n",
              "</svg>\n",
              "  </button>\n",
              "\n",
              "<style>\n",
              "  .colab-df-quickchart {\n",
              "      --bg-color: #E8F0FE;\n",
              "      --fill-color: #1967D2;\n",
              "      --hover-bg-color: #E2EBFA;\n",
              "      --hover-fill-color: #174EA6;\n",
              "      --disabled-fill-color: #AAA;\n",
              "      --disabled-bg-color: #DDD;\n",
              "  }\n",
              "\n",
              "  [theme=dark] .colab-df-quickchart {\n",
              "      --bg-color: #3B4455;\n",
              "      --fill-color: #D2E3FC;\n",
              "      --hover-bg-color: #434B5C;\n",
              "      --hover-fill-color: #FFFFFF;\n",
              "      --disabled-bg-color: #3B4455;\n",
              "      --disabled-fill-color: #666;\n",
              "  }\n",
              "\n",
              "  .colab-df-quickchart {\n",
              "    background-color: var(--bg-color);\n",
              "    border: none;\n",
              "    border-radius: 50%;\n",
              "    cursor: pointer;\n",
              "    display: none;\n",
              "    fill: var(--fill-color);\n",
              "    height: 32px;\n",
              "    padding: 0;\n",
              "    width: 32px;\n",
              "  }\n",
              "\n",
              "  .colab-df-quickchart:hover {\n",
              "    background-color: var(--hover-bg-color);\n",
              "    box-shadow: 0 1px 2px rgba(60, 64, 67, 0.3), 0 1px 3px 1px rgba(60, 64, 67, 0.15);\n",
              "    fill: var(--button-hover-fill-color);\n",
              "  }\n",
              "\n",
              "  .colab-df-quickchart-complete:disabled,\n",
              "  .colab-df-quickchart-complete:disabled:hover {\n",
              "    background-color: var(--disabled-bg-color);\n",
              "    fill: var(--disabled-fill-color);\n",
              "    box-shadow: none;\n",
              "  }\n",
              "\n",
              "  .colab-df-spinner {\n",
              "    border: 2px solid var(--fill-color);\n",
              "    border-color: transparent;\n",
              "    border-bottom-color: var(--fill-color);\n",
              "    animation:\n",
              "      spin 1s steps(1) infinite;\n",
              "  }\n",
              "\n",
              "  @keyframes spin {\n",
              "    0% {\n",
              "      border-color: transparent;\n",
              "      border-bottom-color: var(--fill-color);\n",
              "      border-left-color: var(--fill-color);\n",
              "    }\n",
              "    20% {\n",
              "      border-color: transparent;\n",
              "      border-left-color: var(--fill-color);\n",
              "      border-top-color: var(--fill-color);\n",
              "    }\n",
              "    30% {\n",
              "      border-color: transparent;\n",
              "      border-left-color: var(--fill-color);\n",
              "      border-top-color: var(--fill-color);\n",
              "      border-right-color: var(--fill-color);\n",
              "    }\n",
              "    40% {\n",
              "      border-color: transparent;\n",
              "      border-right-color: var(--fill-color);\n",
              "      border-top-color: var(--fill-color);\n",
              "    }\n",
              "    60% {\n",
              "      border-color: transparent;\n",
              "      border-right-color: var(--fill-color);\n",
              "    }\n",
              "    80% {\n",
              "      border-color: transparent;\n",
              "      border-right-color: var(--fill-color);\n",
              "      border-bottom-color: var(--fill-color);\n",
              "    }\n",
              "    90% {\n",
              "      border-color: transparent;\n",
              "      border-bottom-color: var(--fill-color);\n",
              "    }\n",
              "  }\n",
              "</style>\n",
              "\n",
              "  <script>\n",
              "    async function quickchart(key) {\n",
              "      const quickchartButtonEl =\n",
              "        document.querySelector('#' + key + ' button');\n",
              "      quickchartButtonEl.disabled = true;  // To prevent multiple clicks.\n",
              "      quickchartButtonEl.classList.add('colab-df-spinner');\n",
              "      try {\n",
              "        const charts = await google.colab.kernel.invokeFunction(\n",
              "            'suggestCharts', [key], {});\n",
              "      } catch (error) {\n",
              "        console.error('Error during call to suggestCharts:', error);\n",
              "      }\n",
              "      quickchartButtonEl.classList.remove('colab-df-spinner');\n",
              "      quickchartButtonEl.classList.add('colab-df-quickchart-complete');\n",
              "    }\n",
              "    (() => {\n",
              "      let quickchartButtonEl =\n",
              "        document.querySelector('#df-cd2ea2e6-cfcf-4527-a697-b2c9c2c53017 button');\n",
              "      quickchartButtonEl.style.display =\n",
              "        google.colab.kernel.accessAllowed ? 'block' : 'none';\n",
              "    })();\n",
              "  </script>\n",
              "</div>\n",
              "    </div>\n",
              "  </div>\n"
            ],
            "text/plain": [
              "        sentiment\n",
              "count  948.000000\n",
              "mean     3.656118\n",
              "std      1.692862\n",
              "min      1.000000\n",
              "25%      2.000000\n",
              "50%      5.000000\n",
              "75%      5.000000\n",
              "max      5.000000"
            ]
          },
          "execution_count": 96,
          "metadata": {},
          "output_type": "execute_result"
        }
      ],
      "source": [
        "# Observe the dataset's statistical\n",
        "df.describe()"
      ]
    },
    {
      "cell_type": "code",
      "execution_count": 97,
      "metadata": {
        "colab": {
          "base_uri": "https://localhost:8080/"
        },
        "id": "e-WYTfPsbY7s",
        "outputId": "a78e05dd-dbc4-4dbf-f06f-35d8f9a6416e"
      },
      "outputs": [
        {
          "data": {
            "text/plain": [
              "array([5, 4, 1, 2, 3])"
            ]
          },
          "execution_count": 97,
          "metadata": {},
          "output_type": "execute_result"
        }
      ],
      "source": [
        "# Check the Unique Value from the review\n",
        "df['sentiment'].unique()"
      ]
    },
    {
      "cell_type": "markdown",
      "metadata": {
        "id": "rW_NJs11bY7t"
      },
      "source": [
        "the result consists of 5 sentiments that are:\n",
        "\n",
        "- 5  \n",
        "- 4  \n",
        "- 1  \n",
        "- 2  \n",
        "- 3\n",
        "\n",
        "this means the rating from 1 star to 5 stars in google play of review the Genshin Impact."
      ]
    },
    {
      "cell_type": "markdown",
      "metadata": {
        "id": "WawKK_FibY7t"
      },
      "source": [
        "### ***4. Exploratory Data Analysis***"
      ]
    },
    {
      "cell_type": "code",
      "execution_count": 98,
      "metadata": {
        "id": "wUtwm7N5bY7t"
      },
      "outputs": [],
      "source": [
        "# Replicate the dataset for EDA\n",
        "dfEda = df.copy()"
      ]
    },
    {
      "cell_type": "markdown",
      "metadata": {
        "id": "28-gCVzGPFy0"
      },
      "source": [
        "the code above is to make a dummy that focus on EDA which means we wouldn't be worried to configure the dataset for Feature Engineering and further to model implementation and experiment."
      ]
    },
    {
      "cell_type": "code",
      "execution_count": 99,
      "metadata": {
        "colab": {
          "base_uri": "https://localhost:8080/",
          "height": 285
        },
        "id": "xGR95n9ybY7u",
        "outputId": "a39d98f0-2372-42b8-d1c9-476b995b478f"
      },
      "outputs": [
        {
          "data": {
            "image/png": "[encoded data removed]",
            "text/plain": [
              "<Figure size 640x480 with 1 Axes>"
            ]
          },
          "metadata": {},
          "output_type": "display_data"
        }
      ],
      "source": [
        "# Write your code here\n",
        "\n",
        "# Combine all the text in the 'review' column into a single string\n",
        "text = \" \".join(df['review'].astype(str))\n",
        "\n",
        "# Generate the word cloud\n",
        "wordcloud = WordCloud(max_font_size=50, max_words=100, background_color=\"black\").generate(text)\n",
        "\n",
        "# Display the word cloud\n",
        "plt.figure()\n",
        "plt.imshow(wordcloud, interpolation=\"antialiased\")\n",
        "plt.axis(\"off\")\n",
        "plt.show()"
      ]
    },
    {
      "cell_type": "markdown",
      "metadata": {
        "id": "swhvUPcYOppl"
      },
      "source": [
        "As we can see the picture above, it's like the biggest or the easiest word to see is the most used words in the dataset of review of Genshin impact. for example, the review talks about `game`, it is obviously a review about game. another example, `character`, because Genshin Impact has a lot of unique character, it is the second most used word after `game`"
      ]
    },
    {
      "cell_type": "code",
      "execution_count": 100,
      "metadata": {
        "colab": {
          "base_uri": "https://localhost:8080/",
          "height": 864
        },
        "id": "4UwFout3bY7u",
        "outputId": "7e4d5887-7936-4cf4-c4da-34485c765d48"
      },
      "outputs": [
        {
          "data": {
            "text/html": [
              "<style type=\"text/css\">\n",
              "#T_c4b80_row0_col1 {\n",
              "  background-color: #08306b;\n",
              "  color: #f1f1f1;\n",
              "}\n",
              "#T_c4b80_row1_col1 {\n",
              "  background-color: #1967ad;\n",
              "  color: #f1f1f1;\n",
              "}\n",
              "#T_c4b80_row2_col1 {\n",
              "  background-color: #1e6db2;\n",
              "  color: #f1f1f1;\n",
              "}\n",
              "#T_c4b80_row3_col1 {\n",
              "  background-color: #2272b6;\n",
              "  color: #f1f1f1;\n",
              "}\n",
              "#T_c4b80_row4_col1 {\n",
              "  background-color: #539ecd;\n",
              "  color: #f1f1f1;\n",
              "}\n",
              "#T_c4b80_row5_col1 {\n",
              "  background-color: #79b5d9;\n",
              "  color: #000000;\n",
              "}\n",
              "#T_c4b80_row6_col1 {\n",
              "  background-color: #8abfdd;\n",
              "  color: #000000;\n",
              "}\n",
              "#T_c4b80_row7_col1 {\n",
              "  background-color: #8dc1dd;\n",
              "  color: #000000;\n",
              "}\n",
              "#T_c4b80_row8_col1 {\n",
              "  background-color: #c6dbef;\n",
              "  color: #000000;\n",
              "}\n",
              "#T_c4b80_row9_col1 {\n",
              "  background-color: #c7dbef;\n",
              "  color: #000000;\n",
              "}\n",
              "#T_c4b80_row10_col1 {\n",
              "  background-color: #d2e3f3;\n",
              "  color: #000000;\n",
              "}\n",
              "#T_c4b80_row11_col1 {\n",
              "  background-color: #dfebf7;\n",
              "  color: #000000;\n",
              "}\n",
              "#T_c4b80_row12_col1 {\n",
              "  background-color: #e0ecf8;\n",
              "  color: #000000;\n",
              "}\n",
              "#T_c4b80_row13_col1 {\n",
              "  background-color: #e3eef8;\n",
              "  color: #000000;\n",
              "}\n",
              "#T_c4b80_row14_col1 {\n",
              "  background-color: #e5eff9;\n",
              "  color: #000000;\n",
              "}\n",
              "#T_c4b80_row15_col1 {\n",
              "  background-color: #eaf2fb;\n",
              "  color: #000000;\n",
              "}\n",
              "#T_c4b80_row16_col1 {\n",
              "  background-color: #eaf3fb;\n",
              "  color: #000000;\n",
              "}\n",
              "#T_c4b80_row17_col1 {\n",
              "  background-color: #eff6fc;\n",
              "  color: #000000;\n",
              "}\n",
              "#T_c4b80_row18_col1 {\n",
              "  background-color: #f2f7fd;\n",
              "  color: #000000;\n",
              "}\n",
              "#T_c4b80_row19_col1 {\n",
              "  background-color: #f4f9fe;\n",
              "  color: #000000;\n",
              "}\n",
              "#T_c4b80_row20_col1, #T_c4b80_row21_col1, #T_c4b80_row22_col1 {\n",
              "  background-color: #f5f9fe;\n",
              "  color: #000000;\n",
              "}\n",
              "#T_c4b80_row23_col1 {\n",
              "  background-color: #f6faff;\n",
              "  color: #000000;\n",
              "}\n",
              "#T_c4b80_row24_col1, #T_c4b80_row25_col1 {\n",
              "  background-color: #f7fbff;\n",
              "  color: #000000;\n",
              "}\n",
              "</style>\n",
              "<table id=\"T_c4b80\" class=\"dataframe\">\n",
              "  <thead>\n",
              "    <tr>\n",
              "      <th class=\"blank level0\" >&nbsp;</th>\n",
              "      <th id=\"T_c4b80_level0_col0\" class=\"col_heading level0 col0\" >Words</th>\n",
              "      <th id=\"T_c4b80_level0_col1\" class=\"col_heading level0 col1\" >Count</th>\n",
              "    </tr>\n",
              "  </thead>\n",
              "  <tbody>\n",
              "    <tr>\n",
              "      <th id=\"T_c4b80_level0_row0\" class=\"row_heading level0 row0\" >0</th>\n",
              "      <td id=\"T_c4b80_row0_col0\" class=\"data row0 col0\" >the</td>\n",
              "      <td id=\"T_c4b80_row0_col1\" class=\"data row0 col1\" >676</td>\n",
              "    </tr>\n",
              "    <tr>\n",
              "      <th id=\"T_c4b80_level0_row1\" class=\"row_heading level0 row1\" >1</th>\n",
              "      <td id=\"T_c4b80_row1_col0\" class=\"data row1 col0\" >I</td>\n",
              "      <td id=\"T_c4b80_row1_col1\" class=\"data row1 col1\" >556</td>\n",
              "    </tr>\n",
              "    <tr>\n",
              "      <th id=\"T_c4b80_level0_row2\" class=\"row_heading level0 row2\" >2</th>\n",
              "      <td id=\"T_c4b80_row2_col0\" class=\"data row2 col0\" >and</td>\n",
              "      <td id=\"T_c4b80_row2_col1\" class=\"data row2 col1\" >542</td>\n",
              "    </tr>\n",
              "    <tr>\n",
              "      <th id=\"T_c4b80_level0_row3\" class=\"row_heading level0 row3\" >3</th>\n",
              "      <td id=\"T_c4b80_row3_col0\" class=\"data row3 col0\" >game</td>\n",
              "      <td id=\"T_c4b80_row3_col1\" class=\"data row3 col1\" >531</td>\n",
              "    </tr>\n",
              "    <tr>\n",
              "      <th id=\"T_c4b80_level0_row4\" class=\"row_heading level0 row4\" >4</th>\n",
              "      <td id=\"T_c4b80_row4_col0\" class=\"data row4 col0\" >to</td>\n",
              "      <td id=\"T_c4b80_row4_col1\" class=\"data row4 col1\" >433</td>\n",
              "    </tr>\n",
              "    <tr>\n",
              "      <th id=\"T_c4b80_level0_row5\" class=\"row_heading level0 row5\" >5</th>\n",
              "      <td id=\"T_c4b80_row5_col0\" class=\"data row5 col0\" >is</td>\n",
              "      <td id=\"T_c4b80_row5_col1\" class=\"data row5 col1\" >374</td>\n",
              "    </tr>\n",
              "    <tr>\n",
              "      <th id=\"T_c4b80_level0_row6\" class=\"row_heading level0 row6\" >6</th>\n",
              "      <td id=\"T_c4b80_row6_col0\" class=\"data row6 col0\" >a</td>\n",
              "      <td id=\"T_c4b80_row6_col1\" class=\"data row6 col1\" >350</td>\n",
              "    </tr>\n",
              "    <tr>\n",
              "      <th id=\"T_c4b80_level0_row7\" class=\"row_heading level0 row7\" >7</th>\n",
              "      <td id=\"T_c4b80_row7_col0\" class=\"data row7 col0\" >it</td>\n",
              "      <td id=\"T_c4b80_row7_col1\" class=\"data row7 col1\" >345</td>\n",
              "    </tr>\n",
              "    <tr>\n",
              "      <th id=\"T_c4b80_level0_row8\" class=\"row_heading level0 row8\" >8</th>\n",
              "      <td id=\"T_c4b80_row8_col0\" class=\"data row8 col0\" >this</td>\n",
              "      <td id=\"T_c4b80_row8_col1\" class=\"data row8 col1\" >251</td>\n",
              "    </tr>\n",
              "    <tr>\n",
              "      <th id=\"T_c4b80_level0_row9\" class=\"row_heading level0 row9\" >9</th>\n",
              "      <td id=\"T_c4b80_row9_col0\" class=\"data row9 col0\" >but</td>\n",
              "      <td id=\"T_c4b80_row9_col1\" class=\"data row9 col1\" >249</td>\n",
              "    </tr>\n",
              "    <tr>\n",
              "      <th id=\"T_c4b80_level0_row10\" class=\"row_heading level0 row10\" >10</th>\n",
              "      <td id=\"T_c4b80_row10_col0\" class=\"data row10 col0\" >of</td>\n",
              "      <td id=\"T_c4b80_row10_col1\" class=\"data row10 col1\" >216</td>\n",
              "    </tr>\n",
              "    <tr>\n",
              "      <th id=\"T_c4b80_level0_row11\" class=\"row_heading level0 row11\" >11</th>\n",
              "      <td id=\"T_c4b80_row11_col0\" class=\"data row11 col0\" >for</td>\n",
              "      <td id=\"T_c4b80_row11_col1\" class=\"data row11 col1\" >179</td>\n",
              "    </tr>\n",
              "    <tr>\n",
              "      <th id=\"T_c4b80_level0_row12\" class=\"row_heading level0 row12\" >12</th>\n",
              "      <td id=\"T_c4b80_row12_col0\" class=\"data row12 col0\" >you</td>\n",
              "      <td id=\"T_c4b80_row12_col1\" class=\"data row12 col1\" >175</td>\n",
              "    </tr>\n",
              "    <tr>\n",
              "      <th id=\"T_c4b80_level0_row13\" class=\"row_heading level0 row13\" >13</th>\n",
              "      <td id=\"T_c4b80_row13_col0\" class=\"data row13 col0\" >my</td>\n",
              "      <td id=\"T_c4b80_row13_col1\" class=\"data row13 col1\" >168</td>\n",
              "    </tr>\n",
              "    <tr>\n",
              "      <th id=\"T_c4b80_level0_row14\" class=\"row_heading level0 row14\" >14</th>\n",
              "      <td id=\"T_c4b80_row14_col0\" class=\"data row14 col0\" >in</td>\n",
              "      <td id=\"T_c4b80_row14_col1\" class=\"data row14 col1\" >160</td>\n",
              "    </tr>\n",
              "    <tr>\n",
              "      <th id=\"T_c4b80_level0_row15\" class=\"row_heading level0 row15\" >15</th>\n",
              "      <td id=\"T_c4b80_row15_col0\" class=\"data row15 col0\" >like</td>\n",
              "      <td id=\"T_c4b80_row15_col1\" class=\"data row15 col1\" >147</td>\n",
              "    </tr>\n",
              "    <tr>\n",
              "      <th id=\"T_c4b80_level0_row16\" class=\"row_heading level0 row16\" >16</th>\n",
              "      <td id=\"T_c4b80_row16_col0\" class=\"data row16 col0\" >so</td>\n",
              "      <td id=\"T_c4b80_row16_col1\" class=\"data row16 col1\" >146</td>\n",
              "    </tr>\n",
              "    <tr>\n",
              "      <th id=\"T_c4b80_level0_row17\" class=\"row_heading level0 row17\" >17</th>\n",
              "      <td id=\"T_c4b80_row17_col0\" class=\"data row17 col0\" >good</td>\n",
              "      <td id=\"T_c4b80_row17_col1\" class=\"data row17 col1\" >132</td>\n",
              "    </tr>\n",
              "    <tr>\n",
              "      <th id=\"T_c4b80_level0_row18\" class=\"row_heading level0 row18\" >18</th>\n",
              "      <td id=\"T_c4b80_row18_col0\" class=\"data row18 col0\" >i</td>\n",
              "      <td id=\"T_c4b80_row18_col1\" class=\"data row18 col1\" >126</td>\n",
              "    </tr>\n",
              "    <tr>\n",
              "      <th id=\"T_c4b80_level0_row19\" class=\"row_heading level0 row19\" >19</th>\n",
              "      <td id=\"T_c4b80_row19_col0\" class=\"data row19 col0\" >are</td>\n",
              "      <td id=\"T_c4b80_row19_col1\" class=\"data row19 col1\" >118</td>\n",
              "    </tr>\n",
              "    <tr>\n",
              "      <th id=\"T_c4b80_level0_row20\" class=\"row_heading level0 row20\" >20</th>\n",
              "      <td id=\"T_c4b80_row20_col0\" class=\"data row20 col0\" >have</td>\n",
              "      <td id=\"T_c4b80_row20_col1\" class=\"data row20 col1\" >117</td>\n",
              "    </tr>\n",
              "    <tr>\n",
              "      <th id=\"T_c4b80_level0_row21\" class=\"row_heading level0 row21\" >21</th>\n",
              "      <td id=\"T_c4b80_row21_col0\" class=\"data row21 col0\" >not</td>\n",
              "      <td id=\"T_c4b80_row21_col1\" class=\"data row21 col1\" >117</td>\n",
              "    </tr>\n",
              "    <tr>\n",
              "      <th id=\"T_c4b80_level0_row22\" class=\"row_heading level0 row22\" >22</th>\n",
              "      <td id=\"T_c4b80_row22_col0\" class=\"data row22 col0\" >love</td>\n",
              "      <td id=\"T_c4b80_row22_col1\" class=\"data row22 col1\" >116</td>\n",
              "    </tr>\n",
              "    <tr>\n",
              "      <th id=\"T_c4b80_level0_row23\" class=\"row_heading level0 row23\" >23</th>\n",
              "      <td id=\"T_c4b80_row23_col0\" class=\"data row23 col0\" >that</td>\n",
              "      <td id=\"T_c4b80_row23_col1\" class=\"data row23 col1\" >112</td>\n",
              "    </tr>\n",
              "    <tr>\n",
              "      <th id=\"T_c4b80_level0_row24\" class=\"row_heading level0 row24\" >24</th>\n",
              "      <td id=\"T_c4b80_row24_col0\" class=\"data row24 col0\" >play</td>\n",
              "      <td id=\"T_c4b80_row24_col1\" class=\"data row24 col1\" >111</td>\n",
              "    </tr>\n",
              "    <tr>\n",
              "      <th id=\"T_c4b80_level0_row25\" class=\"row_heading level0 row25\" >25</th>\n",
              "      <td id=\"T_c4b80_row25_col0\" class=\"data row25 col0\" >on</td>\n",
              "      <td id=\"T_c4b80_row25_col1\" class=\"data row25 col1\" >109</td>\n",
              "    </tr>\n",
              "  </tbody>\n",
              "</table>\n"
            ],
            "text/plain": [
              "<pandas.io.formats.style.Styler at 0x78347c6d6140>"
            ]
          },
          "execution_count": 100,
          "metadata": {},
          "output_type": "execute_result"
        }
      ],
      "source": [
        "# Create top 25 highest words mode\n",
        "dfEda['review_list'] = dfEda['review'].apply(lambda x:str(x).split())\n",
        "highAll = Counter([item for sublist in dfEda['review_list'] for item in sublist])\n",
        "reviewHighAll = pd.DataFrame(highAll.most_common(26))\n",
        "reviewHighAll.columns = ['Words', 'Count']\n",
        "reviewHighAll.style.background_gradient(cmap='Blues')"
      ]
    },
    {
      "cell_type": "markdown",
      "metadata": {
        "id": "iXypPVrXObsS"
      },
      "source": [
        "the result above is to show how many words are oftenly used in the dataset of review the game called Genshin Impact.\n",
        "\n",
        "we can see the color fading from the top to the bottom, it indicates that the more color fading from blue to white is, the less word used."
      ]
    },
    {
      "cell_type": "code",
      "execution_count": 101,
      "metadata": {
        "colab": {
          "base_uri": "https://localhost:8080/"
        },
        "id": "epXJTXyTbY7u",
        "outputId": "30da4cc8-4782-4e8f-d676-102523dd9c3b"
      },
      "outputs": [
        {
          "name": "stdout",
          "output_type": "stream",
          "text": [
            "the: 676\n",
            "I: 556\n",
            "and: 542\n",
            "game: 531\n",
            "to: 433\n",
            "is: 374\n",
            "a: 350\n",
            "it: 345\n",
            "this: 251\n",
            "but: 249\n",
            "of: 216\n",
            "for: 179\n",
            "you: 175\n",
            "my: 168\n",
            "in: 160\n",
            "like: 147\n",
            "so: 146\n",
            "good: 132\n",
            "i: 126\n",
            "are: 118\n",
            "have: 117\n",
            "not: 117\n",
            "love: 116\n",
            "that: 112\n",
            "play: 111\n",
            "on: 109\n"
          ]
        }
      ],
      "source": [
        "# Assuming dfEda is your DataFrame and 'review' is the column with text reviews\n",
        "\n",
        "# Create top 25 highest words mode\n",
        "dfEda['review_list'] = dfEda['review'].apply(lambda x: str(x).split())\n",
        "highAll = Counter([item for sublist in dfEda['review_list'] for item in sublist])\n",
        "reviewHighAll = pd.DataFrame(highAll.most_common(26))\n",
        "reviewHighAll.columns = ['Words', 'Count']\n",
        "reviewHighAll.style.background_gradient(cmap='Blues')\n",
        "\n",
        "# Get a list of words followed by their count\n",
        "word_count_list = list(zip(reviewHighAll['Words'], reviewHighAll['Count']))\n",
        "\n",
        "# Print the list of words and their counts\n",
        "for word, count in word_count_list:\n",
        "    print(f'{word}: {count}')\n"
      ]
    },
    {
      "cell_type": "markdown",
      "metadata": {
        "id": "LQWYQOxuOUL2"
      },
      "source": [
        "the result above is to show how many words are oftenly used in the dataset of review the game called Genshin Impact"
      ]
    },
    {
      "cell_type": "code",
      "execution_count": 102,
      "metadata": {
        "colab": {
          "base_uri": "https://localhost:8080/"
        },
        "id": "wKQMdnzdbY7v",
        "outputId": "71876ca7-6a9c-45cd-f29c-38db7c1311fb"
      },
      "outputs": [
        {
          "data": {
            "text/plain": [
              "['the',\n",
              " 'I',\n",
              " 'and',\n",
              " 'game',\n",
              " 'to',\n",
              " 'is',\n",
              " 'a',\n",
              " 'it',\n",
              " 'this',\n",
              " 'but',\n",
              " 'of',\n",
              " 'for',\n",
              " 'you',\n",
              " 'my',\n",
              " 'in',\n",
              " 'like',\n",
              " 'so',\n",
              " 'good',\n",
              " 'i',\n",
              " 'are',\n",
              " 'have',\n",
              " 'not',\n",
              " 'love',\n",
              " 'that',\n",
              " 'play',\n",
              " 'on']"
            ]
          },
          "execution_count": 102,
          "metadata": {},
          "output_type": "execute_result"
        }
      ],
      "source": [
        "# Extract the most words counted into the list\n",
        "wordList = reviewHighAll['Words'].tolist()\n",
        "\n",
        "# Print the list of words above\n",
        "wordList"
      ]
    },
    {
      "cell_type": "markdown",
      "metadata": {
        "id": "Y-XlAe4wOHYf"
      },
      "source": [
        "the result above is to grading the most used words in the review from the dataset given. it is obviously in English language, whenever we would like to emphasize things to make it clear, we usually use the word \"The\""
      ]
    },
    {
      "cell_type": "markdown",
      "metadata": {
        "id": "qZvob8NnbY7v"
      },
      "source": [
        "### ***5. Feature Engineering***"
      ]
    },
    {
      "cell_type": "code",
      "execution_count": 103,
      "metadata": {
        "id": "xhXmibr6bY7v"
      },
      "outputs": [],
      "source": [
        "# To convert Sentiment from 5 ratings\n",
        "sentiment = []\n",
        "\n",
        "\n",
        "\n",
        "for i in df['sentiment']:\n",
        "    if i >= 4:\n",
        "        sentiment.append('positive')\n",
        "    elif i == 3:\n",
        "        sentiment.append('neutral')\n",
        "    else:\n",
        "        sentiment.append('negative')\n",
        "\n",
        "\n",
        "df['target'] = sentiment\n"
      ]
    },
    {
      "cell_type": "markdown",
      "metadata": {
        "id": "ODvo8hMvOEcm"
      },
      "source": [
        "the cell code above indicates that the user wants to convert from all those five ratings into three sentiments that are: Positive, Neutral, and Negative."
      ]
    },
    {
      "cell_type": "code",
      "execution_count": 104,
      "metadata": {
        "id": "Z_DYOuStbY7w"
      },
      "outputs": [],
      "source": [
        "# Write your code here\n",
        "\n",
        "# Define Stopwords\n",
        "stopWords = list(set(stopwords.words('english')))\n",
        "additionalStopwords = [\n",
        "    'the', 'I', 'and', 'to', 'is', 'a', 'it', 'this', 'but',\n",
        "    'of', 'for', 'you', 'my', 'in', 'like', 'so', 'good', 'i', 'are',\n",
        "    'have', 'not', 'that', 'on', \"'s\"\n",
        "]\n",
        "stopWords.extend(additionalStopwords)\n",
        "\n",
        "# Define Stemming\n",
        "lemmatizer = WordNetLemmatizer()"
      ]
    },
    {
      "cell_type": "markdown",
      "metadata": {
        "id": "sppPzqzNOCiS"
      },
      "source": [
        "Since the dataset mostly are used in English language, the user decided to use the stop words in english such as the connection word: `and`, `to`, `for`, `of`, but and so on. On the other hand, the user input the conjunction words manually such as `it`, `this`, `you`, `my`, and `like`"
      ]
    },
    {
      "cell_type": "code",
      "execution_count": 105,
      "metadata": {
        "id": "z1ZijuJybY7w"
      },
      "outputs": [],
      "source": [
        "# Create A Function for Text Preprocessing\n",
        "\n",
        "def text_preprocessing(text):\n",
        "  # Case folding\n",
        "  text = text.lower()\n",
        "\n",
        "  # Newline removal (\\n)\n",
        "  text = re.sub(r\"\\\\n\", \" \",text)\n",
        "\n",
        "  # Whitespace removal\n",
        "  text = text.strip()\n",
        "\n",
        "  # Non-letter removal (such as emoticon, symbol (like μ, $, 兀), etc\n",
        "  text = re.sub(\"[^A-Za-z\\s']\", \" \", text)\n",
        "\n",
        "  # Tokenization\n",
        "  tokens = word_tokenize(text)\n",
        "\n",
        "  # Stopwords removal\n",
        "  tokens = [word for word in tokens if word not in stopWords]\n",
        "\n",
        "  # Stemming\n",
        "  tokens = [lemmatizer.lemmatize(word) for word in tokens]\n",
        "\n",
        "  # Combining Tokens\n",
        "  text = ' '.join(tokens)\n",
        "\n",
        "  return text"
      ]
    },
    {
      "cell_type": "markdown",
      "metadata": {
        "id": "tblFyASDN_zH"
      },
      "source": [
        "the cell code above is the configuration for removing any weird letters and characters such as emoticons, abnormal text like mistyping, whitespace meaning the additional space of words after words; \"too  much\", and new line removal."
      ]
    },
    {
      "cell_type": "code",
      "execution_count": 106,
      "metadata": {
        "colab": {
          "base_uri": "https://localhost:8080/",
          "height": 423
        },
        "id": "I7y-V9sFbY7x",
        "outputId": "94371a88-c446-471c-cedf-e29ec96b2da1"
      },
      "outputs": [
        {
          "data": {
            "application/vnd.google.colaboratory.intrinsic+json": {
              "summary": "{\n  \"name\": \"df\",\n  \"rows\": 948,\n  \"fields\": [\n    {\n      \"column\": \"review\",\n      \"properties\": {\n        \"dtype\": \"string\",\n        \"num_unique_values\": 944,\n        \"samples\": [\n          \"Gud but stutter so 4 stars\",\n          \"Sh* ty game, racist game wich doesn't care about global Occasions such as Halloween and Christmas etc- the rewards are the worse\",\n          \"It took me a while to level up but it was really fun\"\n        ],\n        \"semantic_type\": \"\",\n        \"description\": \"\"\n      }\n    },\n    {\n      \"column\": \"sentiment\",\n      \"properties\": {\n        \"dtype\": \"number\",\n        \"std\": 1,\n        \"min\": 1,\n        \"max\": 5,\n        \"num_unique_values\": 5,\n        \"samples\": [\n          4,\n          3,\n          1\n        ],\n        \"semantic_type\": \"\",\n        \"description\": \"\"\n      }\n    },\n    {\n      \"column\": \"target\",\n      \"properties\": {\n        \"dtype\": \"category\",\n        \"num_unique_values\": 3,\n        \"samples\": [\n          \"positive\",\n          \"negative\",\n          \"neutral\"\n        ],\n        \"semantic_type\": \"\",\n        \"description\": \"\"\n      }\n    },\n    {\n      \"column\": \"text_processed\",\n      \"properties\": {\n        \"dtype\": \"string\",\n        \"num_unique_values\": 844,\n        \"samples\": [\n          \"nice game quest fun challenging would recommend friend\",\n          \"low summon rate\",\n          \"better anniversary reward\"\n        ],\n        \"semantic_type\": \"\",\n        \"description\": \"\"\n      }\n    }\n  ]\n}",
              "type": "dataframe",
              "variable_name": "df"
            },
            "text/html": [
              "\n",
              "  <div id=\"df-e67a0e16-4bbf-4df7-a60b-349137cee83e\" class=\"colab-df-container\">\n",
              "    <div>\n",
              "<style scoped>\n",
              "    .dataframe tbody tr th:only-of-type {\n",
              "        vertical-align: middle;\n",
              "    }\n",
              "\n",
              "    .dataframe tbody tr th {\n",
              "        vertical-align: top;\n",
              "    }\n",
              "\n",
              "    .dataframe thead th {\n",
              "        text-align: right;\n",
              "    }\n",
              "</style>\n",
              "<table border=\"1\" class=\"dataframe\">\n",
              "  <thead>\n",
              "    <tr style=\"text-align: right;\">\n",
              "      <th></th>\n",
              "      <th>review</th>\n",
              "      <th>sentiment</th>\n",
              "      <th>target</th>\n",
              "      <th>text_processed</th>\n",
              "    </tr>\n",
              "  </thead>\n",
              "  <tbody>\n",
              "    <tr>\n",
              "      <th>0</th>\n",
              "      <td>Absolute Masterpiece i hate the people who gav...</td>\n",
              "      <td>5</td>\n",
              "      <td>positive</td>\n",
              "      <td>absolute masterpiece hate people gave beautifu...</td>\n",
              "    </tr>\n",
              "    <tr>\n",
              "      <th>1</th>\n",
              "      <td>amazing but the fandom isn't amazing</td>\n",
              "      <td>5</td>\n",
              "      <td>positive</td>\n",
              "      <td>amazing fandom n't amazing</td>\n",
              "    </tr>\n",
              "    <tr>\n",
              "      <th>2</th>\n",
              "      <td>Very nice</td>\n",
              "      <td>5</td>\n",
              "      <td>positive</td>\n",
              "      <td>nice</td>\n",
              "    </tr>\n",
              "    <tr>\n",
              "      <th>3</th>\n",
              "      <td>Give me gambling money (primo gems)</td>\n",
              "      <td>4</td>\n",
              "      <td>positive</td>\n",
              "      <td>give gambling money primo gem</td>\n",
              "    </tr>\n",
              "    <tr>\n",
              "      <th>4</th>\n",
              "      <td>This is one my first Open World RPG games, and...</td>\n",
              "      <td>4</td>\n",
              "      <td>positive</td>\n",
              "      <td>one first open world rpg game think never love...</td>\n",
              "    </tr>\n",
              "    <tr>\n",
              "      <th>...</th>\n",
              "      <td>...</td>\n",
              "      <td>...</td>\n",
              "      <td>...</td>\n",
              "      <td>...</td>\n",
              "    </tr>\n",
              "    <tr>\n",
              "      <th>990</th>\n",
              "      <td>Yeah</td>\n",
              "      <td>4</td>\n",
              "      <td>positive</td>\n",
              "      <td>yeah</td>\n",
              "    </tr>\n",
              "    <tr>\n",
              "      <th>991</th>\n",
              "      <td>Getting bored</td>\n",
              "      <td>3</td>\n",
              "      <td>neutral</td>\n",
              "      <td>getting bored</td>\n",
              "    </tr>\n",
              "    <tr>\n",
              "      <th>992</th>\n",
              "      <td>This game sucks</td>\n",
              "      <td>1</td>\n",
              "      <td>negative</td>\n",
              "      <td>game suck</td>\n",
              "    </tr>\n",
              "    <tr>\n",
              "      <th>993</th>\n",
              "      <td>\"If Adventuring in Teyvat was a dream, Genshin...</td>\n",
              "      <td>5</td>\n",
              "      <td>positive</td>\n",
              "      <td>adventuring teyvat dream genshin impact truly ...</td>\n",
              "    </tr>\n",
              "    <tr>\n",
              "      <th>994</th>\n",
              "      <td>I love this game it's so slay 🥰😍💅✨🤩🤑🤭🔥🤯😇😃😘😜☺️❤️💖👍</td>\n",
              "      <td>5</td>\n",
              "      <td>positive</td>\n",
              "      <td>love game slay</td>\n",
              "    </tr>\n",
              "  </tbody>\n",
              "</table>\n",
              "<p>948 rows × 4 columns</p>\n",
              "</div>\n",
              "    <div class=\"colab-df-buttons\">\n",
              "\n",
              "  <div class=\"colab-df-container\">\n",
              "    <button class=\"colab-df-convert\" onclick=\"convertToInteractive('df-e67a0e16-4bbf-4df7-a60b-349137cee83e')\"\n",
              "            title=\"Convert this dataframe to an interactive table.\"\n",
              "            style=\"display:none;\">\n",
              "\n",
              "  <svg xmlns=\"http://www.w3.org/2000/svg\" height=\"24px\" viewBox=\"0 -960 960 960\">\n",
              "    <path d=\"M120-120v-720h720v720H120Zm60-500h600v-160H180v160Zm220 220h160v-160H400v160Zm0 220h160v-160H400v160ZM180-400h160v-160H180v160Zm440 0h160v-160H620v160ZM180-180h160v-160H180v160Zm440 0h160v-160H620v160Z\"/>\n",
              "  </svg>\n",
              "    </button>\n",
              "\n",
              "  <style>\n",
              "    .colab-df-container {\n",
              "      display:flex;\n",
              "      gap: 12px;\n",
              "    }\n",
              "\n",
              "    .colab-df-convert {\n",
              "      background-color: #E8F0FE;\n",
              "      border: none;\n",
              "      border-radius: 50%;\n",
              "      cursor: pointer;\n",
              "      display: none;\n",
              "      fill: #1967D2;\n",
              "      height: 32px;\n",
              "      padding: 0 0 0 0;\n",
              "      width: 32px;\n",
              "    }\n",
              "\n",
              "    .colab-df-convert:hover {\n",
              "      background-color: #E2EBFA;\n",
              "      box-shadow: 0px 1px 2px rgba(60, 64, 67, 0.3), 0px 1px 3px 1px rgba(60, 64, 67, 0.15);\n",
              "      fill: #174EA6;\n",
              "    }\n",
              "\n",
              "    .colab-df-buttons div {\n",
              "      margin-bottom: 4px;\n",
              "    }\n",
              "\n",
              "    [theme=dark] .colab-df-convert {\n",
              "      background-color: #3B4455;\n",
              "      fill: #D2E3FC;\n",
              "    }\n",
              "\n",
              "    [theme=dark] .colab-df-convert:hover {\n",
              "      background-color: #434B5C;\n",
              "      box-shadow: 0px 1px 3px 1px rgba(0, 0, 0, 0.15);\n",
              "      filter: drop-shadow(0px 1px 2px rgba(0, 0, 0, 0.3));\n",
              "      fill: #FFFFFF;\n",
              "    }\n",
              "  </style>\n",
              "\n",
              "    <script>\n",
              "      const buttonEl =\n",
              "        document.querySelector('#df-e67a0e16-4bbf-4df7-a60b-349137cee83e button.colab-df-convert');\n",
              "      buttonEl.style.display =\n",
              "        google.colab.kernel.accessAllowed ? 'block' : 'none';\n",
              "\n",
              "      async function convertToInteractive(key) {\n",
              "        const element = document.querySelector('#df-e67a0e16-4bbf-4df7-a60b-349137cee83e');\n",
              "        const dataTable =\n",
              "          await google.colab.kernel.invokeFunction('convertToInteractive',\n",
              "                                                    [key], {});\n",
              "        if (!dataTable) return;\n",
              "\n",
              "        const docLinkHtml = 'Like what you see? Visit the ' +\n",
              "          '<a target=\"_blank\" href=https://colab.research.google.com/notebooks/data_table.ipynb>data table notebook</a>'\n",
              "          + ' to learn more about interactive tables.';\n",
              "        element.innerHTML = '';\n",
              "        dataTable['output_type'] = 'display_data';\n",
              "        await google.colab.output.renderOutput(dataTable, element);\n",
              "        const docLink = document.createElement('div');\n",
              "        docLink.innerHTML = docLinkHtml;\n",
              "        element.appendChild(docLink);\n",
              "      }\n",
              "    </script>\n",
              "  </div>\n",
              "\n",
              "\n",
              "<div id=\"df-417f9a14-d938-4b31-b137-8d1e717e0e57\">\n",
              "  <button class=\"colab-df-quickchart\" onclick=\"quickchart('df-417f9a14-d938-4b31-b137-8d1e717e0e57')\"\n",
              "            title=\"Suggest charts\"\n",
              "            style=\"display:none;\">\n",
              "\n",
              "<svg xmlns=\"http://www.w3.org/2000/svg\" height=\"24px\"viewBox=\"0 0 24 24\"\n",
              "     width=\"24px\">\n",
              "    <g>\n",
              "        <path d=\"M19 3H5c-1.1 0-2 .9-2 2v14c0 1.1.9 2 2 2h14c1.1 0 2-.9 2-2V5c0-1.1-.9-2-2-2zM9 17H7v-7h2v7zm4 0h-2V7h2v10zm4 0h-2v-4h2v4z\"/>\n",
              "    </g>\n",
              "</svg>\n",
              "  </button>\n",
              "\n",
              "<style>\n",
              "  .colab-df-quickchart {\n",
              "      --bg-color: #E8F0FE;\n",
              "      --fill-color: #1967D2;\n",
              "      --hover-bg-color: #E2EBFA;\n",
              "      --hover-fill-color: #174EA6;\n",
              "      --disabled-fill-color: #AAA;\n",
              "      --disabled-bg-color: #DDD;\n",
              "  }\n",
              "\n",
              "  [theme=dark] .colab-df-quickchart {\n",
              "      --bg-color: #3B4455;\n",
              "      --fill-color: #D2E3FC;\n",
              "      --hover-bg-color: #434B5C;\n",
              "      --hover-fill-color: #FFFFFF;\n",
              "      --disabled-bg-color: #3B4455;\n",
              "      --disabled-fill-color: #666;\n",
              "  }\n",
              "\n",
              "  .colab-df-quickchart {\n",
              "    background-color: var(--bg-color);\n",
              "    border: none;\n",
              "    border-radius: 50%;\n",
              "    cursor: pointer;\n",
              "    display: none;\n",
              "    fill: var(--fill-color);\n",
              "    height: 32px;\n",
              "    padding: 0;\n",
              "    width: 32px;\n",
              "  }\n",
              "\n",
              "  .colab-df-quickchart:hover {\n",
              "    background-color: var(--hover-bg-color);\n",
              "    box-shadow: 0 1px 2px rgba(60, 64, 67, 0.3), 0 1px 3px 1px rgba(60, 64, 67, 0.15);\n",
              "    fill: var(--button-hover-fill-color);\n",
              "  }\n",
              "\n",
              "  .colab-df-quickchart-complete:disabled,\n",
              "  .colab-df-quickchart-complete:disabled:hover {\n",
              "    background-color: var(--disabled-bg-color);\n",
              "    fill: var(--disabled-fill-color);\n",
              "    box-shadow: none;\n",
              "  }\n",
              "\n",
              "  .colab-df-spinner {\n",
              "    border: 2px solid var(--fill-color);\n",
              "    border-color: transparent;\n",
              "    border-bottom-color: var(--fill-color);\n",
              "    animation:\n",
              "      spin 1s steps(1) infinite;\n",
              "  }\n",
              "\n",
              "  @keyframes spin {\n",
              "    0% {\n",
              "      border-color: transparent;\n",
              "      border-bottom-color: var(--fill-color);\n",
              "      border-left-color: var(--fill-color);\n",
              "    }\n",
              "    20% {\n",
              "      border-color: transparent;\n",
              "      border-left-color: var(--fill-color);\n",
              "      border-top-color: var(--fill-color);\n",
              "    }\n",
              "    30% {\n",
              "      border-color: transparent;\n",
              "      border-left-color: var(--fill-color);\n",
              "      border-top-color: var(--fill-color);\n",
              "      border-right-color: var(--fill-color);\n",
              "    }\n",
              "    40% {\n",
              "      border-color: transparent;\n",
              "      border-right-color: var(--fill-color);\n",
              "      border-top-color: var(--fill-color);\n",
              "    }\n",
              "    60% {\n",
              "      border-color: transparent;\n",
              "      border-right-color: var(--fill-color);\n",
              "    }\n",
              "    80% {\n",
              "      border-color: transparent;\n",
              "      border-right-color: var(--fill-color);\n",
              "      border-bottom-color: var(--fill-color);\n",
              "    }\n",
              "    90% {\n",
              "      border-color: transparent;\n",
              "      border-bottom-color: var(--fill-color);\n",
              "    }\n",
              "  }\n",
              "</style>\n",
              "\n",
              "  <script>\n",
              "    async function quickchart(key) {\n",
              "      const quickchartButtonEl =\n",
              "        document.querySelector('#' + key + ' button');\n",
              "      quickchartButtonEl.disabled = true;  // To prevent multiple clicks.\n",
              "      quickchartButtonEl.classList.add('colab-df-spinner');\n",
              "      try {\n",
              "        const charts = await google.colab.kernel.invokeFunction(\n",
              "            'suggestCharts', [key], {});\n",
              "      } catch (error) {\n",
              "        console.error('Error during call to suggestCharts:', error);\n",
              "      }\n",
              "      quickchartButtonEl.classList.remove('colab-df-spinner');\n",
              "      quickchartButtonEl.classList.add('colab-df-quickchart-complete');\n",
              "    }\n",
              "    (() => {\n",
              "      let quickchartButtonEl =\n",
              "        document.querySelector('#df-417f9a14-d938-4b31-b137-8d1e717e0e57 button');\n",
              "      quickchartButtonEl.style.display =\n",
              "        google.colab.kernel.accessAllowed ? 'block' : 'none';\n",
              "    })();\n",
              "  </script>\n",
              "</div>\n",
              "    </div>\n",
              "  </div>\n"
            ],
            "text/plain": [
              "                                                review  sentiment    target  \\\n",
              "0    Absolute Masterpiece i hate the people who gav...          5  positive   \n",
              "1                 amazing but the fandom isn't amazing          5  positive   \n",
              "2                                            Very nice          5  positive   \n",
              "3                  Give me gambling money (primo gems)          4  positive   \n",
              "4    This is one my first Open World RPG games, and...          4  positive   \n",
              "..                                                 ...        ...       ...   \n",
              "990                                               Yeah          4  positive   \n",
              "991                                      Getting bored          3   neutral   \n",
              "992                                    This game sucks          1  negative   \n",
              "993  \"If Adventuring in Teyvat was a dream, Genshin...          5  positive   \n",
              "994  I love this game it's so slay 🥰😍💅✨🤩🤑🤭🔥🤯😇😃😘😜☺️❤️💖👍          5  positive   \n",
              "\n",
              "                                        text_processed  \n",
              "0    absolute masterpiece hate people gave beautifu...  \n",
              "1                           amazing fandom n't amazing  \n",
              "2                                                 nice  \n",
              "3                        give gambling money primo gem  \n",
              "4    one first open world rpg game think never love...  \n",
              "..                                                 ...  \n",
              "990                                               yeah  \n",
              "991                                      getting bored  \n",
              "992                                          game suck  \n",
              "993  adventuring teyvat dream genshin impact truly ...  \n",
              "994                                     love game slay  \n",
              "\n",
              "[948 rows x 4 columns]"
            ]
          },
          "execution_count": 106,
          "metadata": {},
          "output_type": "execute_result"
        }
      ],
      "source": [
        "# Link the text preprocessing to the dataset\n",
        "df['text_processed'] = df['review'].apply(lambda x: text_preprocessing(x))\n",
        "\n",
        "# call the last dataset after customise\n",
        "df"
      ]
    },
    {
      "cell_type": "markdown",
      "metadata": {
        "id": "Dk2Aa7BtN8l9"
      },
      "source": [
        "Now we can see above the result after configuration of removal any kinds of unnatural pure texts starting from the column of `review` which there are so much abnormal characters especially the row number 994 which the text contains so much emoticons, and all those unconfigured texts after processing, all the words are changed into lower case and grasp the data into its origin form of words."
      ]
    },
    {
      "cell_type": "code",
      "execution_count": 107,
      "metadata": {
        "colab": {
          "base_uri": "https://localhost:8080/"
        },
        "id": "pZl-ZgI6bY7x",
        "outputId": "9f94f8d5-ad06-447e-9881-3a42e2fdb4f8"
      },
      "outputs": [
        {
          "data": {
            "text/plain": [
              "array([5, 4, 1, 2, 3])"
            ]
          },
          "execution_count": 107,
          "metadata": {},
          "output_type": "execute_result"
        }
      ],
      "source": [
        "# Display the Target\n",
        "\n",
        "df.sentiment.unique()"
      ]
    },
    {
      "cell_type": "code",
      "execution_count": 108,
      "metadata": {
        "colab": {
          "base_uri": "https://localhost:8080/",
          "height": 423
        },
        "id": "kbp8XPUObY7y",
        "outputId": "5a3660ce-a889-456d-e71f-d3180b12858e"
      },
      "outputs": [
        {
          "data": {
            "application/vnd.google.colaboratory.intrinsic+json": {
              "summary": "{\n  \"name\": \"df\",\n  \"rows\": 948,\n  \"fields\": [\n    {\n      \"column\": \"review\",\n      \"properties\": {\n        \"dtype\": \"string\",\n        \"num_unique_values\": 944,\n        \"samples\": [\n          \"Gud but stutter so 4 stars\",\n          \"Sh* ty game, racist game wich doesn't care about global Occasions such as Halloween and Christmas etc- the rewards are the worse\",\n          \"It took me a while to level up but it was really fun\"\n        ],\n        \"semantic_type\": \"\",\n        \"description\": \"\"\n      }\n    },\n    {\n      \"column\": \"sentiment\",\n      \"properties\": {\n        \"dtype\": \"number\",\n        \"std\": 1,\n        \"min\": 1,\n        \"max\": 5,\n        \"num_unique_values\": 5,\n        \"samples\": [\n          4,\n          3,\n          1\n        ],\n        \"semantic_type\": \"\",\n        \"description\": \"\"\n      }\n    },\n    {\n      \"column\": \"target\",\n      \"properties\": {\n        \"dtype\": \"category\",\n        \"num_unique_values\": 3,\n        \"samples\": [\n          \"positive\",\n          \"negative\",\n          \"neutral\"\n        ],\n        \"semantic_type\": \"\",\n        \"description\": \"\"\n      }\n    },\n    {\n      \"column\": \"text_processed\",\n      \"properties\": {\n        \"dtype\": \"string\",\n        \"num_unique_values\": 844,\n        \"samples\": [\n          \"nice game quest fun challenging would recommend friend\",\n          \"low summon rate\",\n          \"better anniversary reward\"\n        ],\n        \"semantic_type\": \"\",\n        \"description\": \"\"\n      }\n    }\n  ]\n}",
              "type": "dataframe",
              "variable_name": "df"
            },
            "text/html": [
              "\n",
              "  <div id=\"df-422d8c48-6eec-44c5-ab4d-7ce03f9290f1\" class=\"colab-df-container\">\n",
              "    <div>\n",
              "<style scoped>\n",
              "    .dataframe tbody tr th:only-of-type {\n",
              "        vertical-align: middle;\n",
              "    }\n",
              "\n",
              "    .dataframe tbody tr th {\n",
              "        vertical-align: top;\n",
              "    }\n",
              "\n",
              "    .dataframe thead th {\n",
              "        text-align: right;\n",
              "    }\n",
              "</style>\n",
              "<table border=\"1\" class=\"dataframe\">\n",
              "  <thead>\n",
              "    <tr style=\"text-align: right;\">\n",
              "      <th></th>\n",
              "      <th>review</th>\n",
              "      <th>sentiment</th>\n",
              "      <th>target</th>\n",
              "      <th>text_processed</th>\n",
              "    </tr>\n",
              "  </thead>\n",
              "  <tbody>\n",
              "    <tr>\n",
              "      <th>0</th>\n",
              "      <td>Absolute Masterpiece i hate the people who gav...</td>\n",
              "      <td>5</td>\n",
              "      <td>positive</td>\n",
              "      <td>absolute masterpiece hate people gave beautifu...</td>\n",
              "    </tr>\n",
              "    <tr>\n",
              "      <th>1</th>\n",
              "      <td>amazing but the fandom isn't amazing</td>\n",
              "      <td>5</td>\n",
              "      <td>positive</td>\n",
              "      <td>amazing fandom n't amazing</td>\n",
              "    </tr>\n",
              "    <tr>\n",
              "      <th>2</th>\n",
              "      <td>Very nice</td>\n",
              "      <td>5</td>\n",
              "      <td>positive</td>\n",
              "      <td>nice</td>\n",
              "    </tr>\n",
              "    <tr>\n",
              "      <th>3</th>\n",
              "      <td>Give me gambling money (primo gems)</td>\n",
              "      <td>4</td>\n",
              "      <td>positive</td>\n",
              "      <td>give gambling money primo gem</td>\n",
              "    </tr>\n",
              "    <tr>\n",
              "      <th>4</th>\n",
              "      <td>This is one my first Open World RPG games, and...</td>\n",
              "      <td>4</td>\n",
              "      <td>positive</td>\n",
              "      <td>one first open world rpg game think never love...</td>\n",
              "    </tr>\n",
              "    <tr>\n",
              "      <th>...</th>\n",
              "      <td>...</td>\n",
              "      <td>...</td>\n",
              "      <td>...</td>\n",
              "      <td>...</td>\n",
              "    </tr>\n",
              "    <tr>\n",
              "      <th>990</th>\n",
              "      <td>Yeah</td>\n",
              "      <td>4</td>\n",
              "      <td>positive</td>\n",
              "      <td>yeah</td>\n",
              "    </tr>\n",
              "    <tr>\n",
              "      <th>991</th>\n",
              "      <td>Getting bored</td>\n",
              "      <td>3</td>\n",
              "      <td>neutral</td>\n",
              "      <td>getting bored</td>\n",
              "    </tr>\n",
              "    <tr>\n",
              "      <th>992</th>\n",
              "      <td>This game sucks</td>\n",
              "      <td>1</td>\n",
              "      <td>negative</td>\n",
              "      <td>game suck</td>\n",
              "    </tr>\n",
              "    <tr>\n",
              "      <th>993</th>\n",
              "      <td>\"If Adventuring in Teyvat was a dream, Genshin...</td>\n",
              "      <td>5</td>\n",
              "      <td>positive</td>\n",
              "      <td>adventuring teyvat dream genshin impact truly ...</td>\n",
              "    </tr>\n",
              "    <tr>\n",
              "      <th>994</th>\n",
              "      <td>I love this game it's so slay 🥰😍💅✨🤩🤑🤭🔥🤯😇😃😘😜☺️❤️💖👍</td>\n",
              "      <td>5</td>\n",
              "      <td>positive</td>\n",
              "      <td>love game slay</td>\n",
              "    </tr>\n",
              "  </tbody>\n",
              "</table>\n",
              "<p>948 rows × 4 columns</p>\n",
              "</div>\n",
              "    <div class=\"colab-df-buttons\">\n",
              "\n",
              "  <div class=\"colab-df-container\">\n",
              "    <button class=\"colab-df-convert\" onclick=\"convertToInteractive('df-422d8c48-6eec-44c5-ab4d-7ce03f9290f1')\"\n",
              "            title=\"Convert this dataframe to an interactive table.\"\n",
              "            style=\"display:none;\">\n",
              "\n",
              "  <svg xmlns=\"http://www.w3.org/2000/svg\" height=\"24px\" viewBox=\"0 -960 960 960\">\n",
              "    <path d=\"M120-120v-720h720v720H120Zm60-500h600v-160H180v160Zm220 220h160v-160H400v160Zm0 220h160v-160H400v160ZM180-400h160v-160H180v160Zm440 0h160v-160H620v160ZM180-180h160v-160H180v160Zm440 0h160v-160H620v160Z\"/>\n",
              "  </svg>\n",
              "    </button>\n",
              "\n",
              "  <style>\n",
              "    .colab-df-container {\n",
              "      display:flex;\n",
              "      gap: 12px;\n",
              "    }\n",
              "\n",
              "    .colab-df-convert {\n",
              "      background-color: #E8F0FE;\n",
              "      border: none;\n",
              "      border-radius: 50%;\n",
              "      cursor: pointer;\n",
              "      display: none;\n",
              "      fill: #1967D2;\n",
              "      height: 32px;\n",
              "      padding: 0 0 0 0;\n",
              "      width: 32px;\n",
              "    }\n",
              "\n",
              "    .colab-df-convert:hover {\n",
              "      background-color: #E2EBFA;\n",
              "      box-shadow: 0px 1px 2px rgba(60, 64, 67, 0.3), 0px 1px 3px 1px rgba(60, 64, 67, 0.15);\n",
              "      fill: #174EA6;\n",
              "    }\n",
              "\n",
              "    .colab-df-buttons div {\n",
              "      margin-bottom: 4px;\n",
              "    }\n",
              "\n",
              "    [theme=dark] .colab-df-convert {\n",
              "      background-color: #3B4455;\n",
              "      fill: #D2E3FC;\n",
              "    }\n",
              "\n",
              "    [theme=dark] .colab-df-convert:hover {\n",
              "      background-color: #434B5C;\n",
              "      box-shadow: 0px 1px 3px 1px rgba(0, 0, 0, 0.15);\n",
              "      filter: drop-shadow(0px 1px 2px rgba(0, 0, 0, 0.3));\n",
              "      fill: #FFFFFF;\n",
              "    }\n",
              "  </style>\n",
              "\n",
              "    <script>\n",
              "      const buttonEl =\n",
              "        document.querySelector('#df-422d8c48-6eec-44c5-ab4d-7ce03f9290f1 button.colab-df-convert');\n",
              "      buttonEl.style.display =\n",
              "        google.colab.kernel.accessAllowed ? 'block' : 'none';\n",
              "\n",
              "      async function convertToInteractive(key) {\n",
              "        const element = document.querySelector('#df-422d8c48-6eec-44c5-ab4d-7ce03f9290f1');\n",
              "        const dataTable =\n",
              "          await google.colab.kernel.invokeFunction('convertToInteractive',\n",
              "                                                    [key], {});\n",
              "        if (!dataTable) return;\n",
              "\n",
              "        const docLinkHtml = 'Like what you see? Visit the ' +\n",
              "          '<a target=\"_blank\" href=https://colab.research.google.com/notebooks/data_table.ipynb>data table notebook</a>'\n",
              "          + ' to learn more about interactive tables.';\n",
              "        element.innerHTML = '';\n",
              "        dataTable['output_type'] = 'display_data';\n",
              "        await google.colab.output.renderOutput(dataTable, element);\n",
              "        const docLink = document.createElement('div');\n",
              "        docLink.innerHTML = docLinkHtml;\n",
              "        element.appendChild(docLink);\n",
              "      }\n",
              "    </script>\n",
              "  </div>\n",
              "\n",
              "\n",
              "<div id=\"df-d95d4648-3546-4f06-9475-1064a5804b61\">\n",
              "  <button class=\"colab-df-quickchart\" onclick=\"quickchart('df-d95d4648-3546-4f06-9475-1064a5804b61')\"\n",
              "            title=\"Suggest charts\"\n",
              "            style=\"display:none;\">\n",
              "\n",
              "<svg xmlns=\"http://www.w3.org/2000/svg\" height=\"24px\"viewBox=\"0 0 24 24\"\n",
              "     width=\"24px\">\n",
              "    <g>\n",
              "        <path d=\"M19 3H5c-1.1 0-2 .9-2 2v14c0 1.1.9 2 2 2h14c1.1 0 2-.9 2-2V5c0-1.1-.9-2-2-2zM9 17H7v-7h2v7zm4 0h-2V7h2v10zm4 0h-2v-4h2v4z\"/>\n",
              "    </g>\n",
              "</svg>\n",
              "  </button>\n",
              "\n",
              "<style>\n",
              "  .colab-df-quickchart {\n",
              "      --bg-color: #E8F0FE;\n",
              "      --fill-color: #1967D2;\n",
              "      --hover-bg-color: #E2EBFA;\n",
              "      --hover-fill-color: #174EA6;\n",
              "      --disabled-fill-color: #AAA;\n",
              "      --disabled-bg-color: #DDD;\n",
              "  }\n",
              "\n",
              "  [theme=dark] .colab-df-quickchart {\n",
              "      --bg-color: #3B4455;\n",
              "      --fill-color: #D2E3FC;\n",
              "      --hover-bg-color: #434B5C;\n",
              "      --hover-fill-color: #FFFFFF;\n",
              "      --disabled-bg-color: #3B4455;\n",
              "      --disabled-fill-color: #666;\n",
              "  }\n",
              "\n",
              "  .colab-df-quickchart {\n",
              "    background-color: var(--bg-color);\n",
              "    border: none;\n",
              "    border-radius: 50%;\n",
              "    cursor: pointer;\n",
              "    display: none;\n",
              "    fill: var(--fill-color);\n",
              "    height: 32px;\n",
              "    padding: 0;\n",
              "    width: 32px;\n",
              "  }\n",
              "\n",
              "  .colab-df-quickchart:hover {\n",
              "    background-color: var(--hover-bg-color);\n",
              "    box-shadow: 0 1px 2px rgba(60, 64, 67, 0.3), 0 1px 3px 1px rgba(60, 64, 67, 0.15);\n",
              "    fill: var(--button-hover-fill-color);\n",
              "  }\n",
              "\n",
              "  .colab-df-quickchart-complete:disabled,\n",
              "  .colab-df-quickchart-complete:disabled:hover {\n",
              "    background-color: var(--disabled-bg-color);\n",
              "    fill: var(--disabled-fill-color);\n",
              "    box-shadow: none;\n",
              "  }\n",
              "\n",
              "  .colab-df-spinner {\n",
              "    border: 2px solid var(--fill-color);\n",
              "    border-color: transparent;\n",
              "    border-bottom-color: var(--fill-color);\n",
              "    animation:\n",
              "      spin 1s steps(1) infinite;\n",
              "  }\n",
              "\n",
              "  @keyframes spin {\n",
              "    0% {\n",
              "      border-color: transparent;\n",
              "      border-bottom-color: var(--fill-color);\n",
              "      border-left-color: var(--fill-color);\n",
              "    }\n",
              "    20% {\n",
              "      border-color: transparent;\n",
              "      border-left-color: var(--fill-color);\n",
              "      border-top-color: var(--fill-color);\n",
              "    }\n",
              "    30% {\n",
              "      border-color: transparent;\n",
              "      border-left-color: var(--fill-color);\n",
              "      border-top-color: var(--fill-color);\n",
              "      border-right-color: var(--fill-color);\n",
              "    }\n",
              "    40% {\n",
              "      border-color: transparent;\n",
              "      border-right-color: var(--fill-color);\n",
              "      border-top-color: var(--fill-color);\n",
              "    }\n",
              "    60% {\n",
              "      border-color: transparent;\n",
              "      border-right-color: var(--fill-color);\n",
              "    }\n",
              "    80% {\n",
              "      border-color: transparent;\n",
              "      border-right-color: var(--fill-color);\n",
              "      border-bottom-color: var(--fill-color);\n",
              "    }\n",
              "    90% {\n",
              "      border-color: transparent;\n",
              "      border-bottom-color: var(--fill-color);\n",
              "    }\n",
              "  }\n",
              "</style>\n",
              "\n",
              "  <script>\n",
              "    async function quickchart(key) {\n",
              "      const quickchartButtonEl =\n",
              "        document.querySelector('#' + key + ' button');\n",
              "      quickchartButtonEl.disabled = true;  // To prevent multiple clicks.\n",
              "      quickchartButtonEl.classList.add('colab-df-spinner');\n",
              "      try {\n",
              "        const charts = await google.colab.kernel.invokeFunction(\n",
              "            'suggestCharts', [key], {});\n",
              "      } catch (error) {\n",
              "        console.error('Error during call to suggestCharts:', error);\n",
              "      }\n",
              "      quickchartButtonEl.classList.remove('colab-df-spinner');\n",
              "      quickchartButtonEl.classList.add('colab-df-quickchart-complete');\n",
              "    }\n",
              "    (() => {\n",
              "      let quickchartButtonEl =\n",
              "        document.querySelector('#df-d95d4648-3546-4f06-9475-1064a5804b61 button');\n",
              "      quickchartButtonEl.style.display =\n",
              "        google.colab.kernel.accessAllowed ? 'block' : 'none';\n",
              "    })();\n",
              "  </script>\n",
              "</div>\n",
              "    </div>\n",
              "  </div>\n"
            ],
            "text/plain": [
              "                                                review  sentiment    target  \\\n",
              "0    Absolute Masterpiece i hate the people who gav...          5  positive   \n",
              "1                 amazing but the fandom isn't amazing          5  positive   \n",
              "2                                            Very nice          5  positive   \n",
              "3                  Give me gambling money (primo gems)          4  positive   \n",
              "4    This is one my first Open World RPG games, and...          4  positive   \n",
              "..                                                 ...        ...       ...   \n",
              "990                                               Yeah          4  positive   \n",
              "991                                      Getting bored          3   neutral   \n",
              "992                                    This game sucks          1  negative   \n",
              "993  \"If Adventuring in Teyvat was a dream, Genshin...          5  positive   \n",
              "994  I love this game it's so slay 🥰😍💅✨🤩🤑🤭🔥🤯😇😃😘😜☺️❤️💖👍          5  positive   \n",
              "\n",
              "                                        text_processed  \n",
              "0    absolute masterpiece hate people gave beautifu...  \n",
              "1                           amazing fandom n't amazing  \n",
              "2                                                 nice  \n",
              "3                        give gambling money primo gem  \n",
              "4    one first open world rpg game think never love...  \n",
              "..                                                 ...  \n",
              "990                                               yeah  \n",
              "991                                      getting bored  \n",
              "992                                          game suck  \n",
              "993  adventuring teyvat dream genshin impact truly ...  \n",
              "994                                     love game slay  \n",
              "\n",
              "[948 rows x 4 columns]"
            ]
          },
          "execution_count": 108,
          "metadata": {},
          "output_type": "execute_result"
        }
      ],
      "source": [
        "# call the dataset after customised for the target\n",
        "df"
      ]
    },
    {
      "cell_type": "code",
      "execution_count": 109,
      "metadata": {
        "colab": {
          "base_uri": "https://localhost:8080/",
          "height": 423
        },
        "id": "XPd33DWhbY7y",
        "outputId": "766eb75b-e9c2-4c04-8a61-6b6ee0ebce03"
      },
      "outputs": [
        {
          "data": {
            "application/vnd.google.colaboratory.intrinsic+json": {
              "summary": "{\n  \"name\": \"df\",\n  \"rows\": 948,\n  \"fields\": [\n    {\n      \"column\": \"review\",\n      \"properties\": {\n        \"dtype\": \"string\",\n        \"num_unique_values\": 944,\n        \"samples\": [\n          \"Gud but stutter so 4 stars\",\n          \"Sh* ty game, racist game wich doesn't care about global Occasions such as Halloween and Christmas etc- the rewards are the worse\",\n          \"It took me a while to level up but it was really fun\"\n        ],\n        \"semantic_type\": \"\",\n        \"description\": \"\"\n      }\n    },\n    {\n      \"column\": \"sentiment\",\n      \"properties\": {\n        \"dtype\": \"number\",\n        \"std\": 1,\n        \"min\": 1,\n        \"max\": 5,\n        \"num_unique_values\": 5,\n        \"samples\": [\n          4,\n          3,\n          1\n        ],\n        \"semantic_type\": \"\",\n        \"description\": \"\"\n      }\n    },\n    {\n      \"column\": \"target\",\n      \"properties\": {\n        \"dtype\": \"category\",\n        \"num_unique_values\": 3,\n        \"samples\": [\n          \"positive\",\n          \"negative\",\n          \"neutral\"\n        ],\n        \"semantic_type\": \"\",\n        \"description\": \"\"\n      }\n    },\n    {\n      \"column\": \"text_processed\",\n      \"properties\": {\n        \"dtype\": \"string\",\n        \"num_unique_values\": 844,\n        \"samples\": [\n          \"nice game quest fun challenging would recommend friend\",\n          \"low summon rate\",\n          \"better anniversary reward\"\n        ],\n        \"semantic_type\": \"\",\n        \"description\": \"\"\n      }\n    },\n    {\n      \"column\": \"label\",\n      \"properties\": {\n        \"dtype\": \"number\",\n        \"std\": 0,\n        \"min\": 0,\n        \"max\": 2,\n        \"num_unique_values\": 3,\n        \"samples\": [\n          2,\n          0,\n          1\n        ],\n        \"semantic_type\": \"\",\n        \"description\": \"\"\n      }\n    }\n  ]\n}",
              "type": "dataframe",
              "variable_name": "df"
            },
            "text/html": [
              "\n",
              "  <div id=\"df-3122c9b8-04c1-4482-9328-50fbb32023b8\" class=\"colab-df-container\">\n",
              "    <div>\n",
              "<style scoped>\n",
              "    .dataframe tbody tr th:only-of-type {\n",
              "        vertical-align: middle;\n",
              "    }\n",
              "\n",
              "    .dataframe tbody tr th {\n",
              "        vertical-align: top;\n",
              "    }\n",
              "\n",
              "    .dataframe thead th {\n",
              "        text-align: right;\n",
              "    }\n",
              "</style>\n",
              "<table border=\"1\" class=\"dataframe\">\n",
              "  <thead>\n",
              "    <tr style=\"text-align: right;\">\n",
              "      <th></th>\n",
              "      <th>review</th>\n",
              "      <th>sentiment</th>\n",
              "      <th>target</th>\n",
              "      <th>text_processed</th>\n",
              "      <th>label</th>\n",
              "    </tr>\n",
              "  </thead>\n",
              "  <tbody>\n",
              "    <tr>\n",
              "      <th>0</th>\n",
              "      <td>Absolute Masterpiece i hate the people who gav...</td>\n",
              "      <td>5</td>\n",
              "      <td>positive</td>\n",
              "      <td>absolute masterpiece hate people gave beautifu...</td>\n",
              "      <td>2</td>\n",
              "    </tr>\n",
              "    <tr>\n",
              "      <th>1</th>\n",
              "      <td>amazing but the fandom isn't amazing</td>\n",
              "      <td>5</td>\n",
              "      <td>positive</td>\n",
              "      <td>amazing fandom n't amazing</td>\n",
              "      <td>2</td>\n",
              "    </tr>\n",
              "    <tr>\n",
              "      <th>2</th>\n",
              "      <td>Very nice</td>\n",
              "      <td>5</td>\n",
              "      <td>positive</td>\n",
              "      <td>nice</td>\n",
              "      <td>2</td>\n",
              "    </tr>\n",
              "    <tr>\n",
              "      <th>3</th>\n",
              "      <td>Give me gambling money (primo gems)</td>\n",
              "      <td>4</td>\n",
              "      <td>positive</td>\n",
              "      <td>give gambling money primo gem</td>\n",
              "      <td>2</td>\n",
              "    </tr>\n",
              "    <tr>\n",
              "      <th>4</th>\n",
              "      <td>This is one my first Open World RPG games, and...</td>\n",
              "      <td>4</td>\n",
              "      <td>positive</td>\n",
              "      <td>one first open world rpg game think never love...</td>\n",
              "      <td>2</td>\n",
              "    </tr>\n",
              "    <tr>\n",
              "      <th>...</th>\n",
              "      <td>...</td>\n",
              "      <td>...</td>\n",
              "      <td>...</td>\n",
              "      <td>...</td>\n",
              "      <td>...</td>\n",
              "    </tr>\n",
              "    <tr>\n",
              "      <th>990</th>\n",
              "      <td>Yeah</td>\n",
              "      <td>4</td>\n",
              "      <td>positive</td>\n",
              "      <td>yeah</td>\n",
              "      <td>2</td>\n",
              "    </tr>\n",
              "    <tr>\n",
              "      <th>991</th>\n",
              "      <td>Getting bored</td>\n",
              "      <td>3</td>\n",
              "      <td>neutral</td>\n",
              "      <td>getting bored</td>\n",
              "      <td>1</td>\n",
              "    </tr>\n",
              "    <tr>\n",
              "      <th>992</th>\n",
              "      <td>This game sucks</td>\n",
              "      <td>1</td>\n",
              "      <td>negative</td>\n",
              "      <td>game suck</td>\n",
              "      <td>0</td>\n",
              "    </tr>\n",
              "    <tr>\n",
              "      <th>993</th>\n",
              "      <td>\"If Adventuring in Teyvat was a dream, Genshin...</td>\n",
              "      <td>5</td>\n",
              "      <td>positive</td>\n",
              "      <td>adventuring teyvat dream genshin impact truly ...</td>\n",
              "      <td>2</td>\n",
              "    </tr>\n",
              "    <tr>\n",
              "      <th>994</th>\n",
              "      <td>I love this game it's so slay 🥰😍💅✨🤩🤑🤭🔥🤯😇😃😘😜☺️❤️💖👍</td>\n",
              "      <td>5</td>\n",
              "      <td>positive</td>\n",
              "      <td>love game slay</td>\n",
              "      <td>2</td>\n",
              "    </tr>\n",
              "  </tbody>\n",
              "</table>\n",
              "<p>948 rows × 5 columns</p>\n",
              "</div>\n",
              "    <div class=\"colab-df-buttons\">\n",
              "\n",
              "  <div class=\"colab-df-container\">\n",
              "    <button class=\"colab-df-convert\" onclick=\"convertToInteractive('df-3122c9b8-04c1-4482-9328-50fbb32023b8')\"\n",
              "            title=\"Convert this dataframe to an interactive table.\"\n",
              "            style=\"display:none;\">\n",
              "\n",
              "  <svg xmlns=\"http://www.w3.org/2000/svg\" height=\"24px\" viewBox=\"0 -960 960 960\">\n",
              "    <path d=\"M120-120v-720h720v720H120Zm60-500h600v-160H180v160Zm220 220h160v-160H400v160Zm0 220h160v-160H400v160ZM180-400h160v-160H180v160Zm440 0h160v-160H620v160ZM180-180h160v-160H180v160Zm440 0h160v-160H620v160Z\"/>\n",
              "  </svg>\n",
              "    </button>\n",
              "\n",
              "  <style>\n",
              "    .colab-df-container {\n",
              "      display:flex;\n",
              "      gap: 12px;\n",
              "    }\n",
              "\n",
              "    .colab-df-convert {\n",
              "      background-color: #E8F0FE;\n",
              "      border: none;\n",
              "      border-radius: 50%;\n",
              "      cursor: pointer;\n",
              "      display: none;\n",
              "      fill: #1967D2;\n",
              "      height: 32px;\n",
              "      padding: 0 0 0 0;\n",
              "      width: 32px;\n",
              "    }\n",
              "\n",
              "    .colab-df-convert:hover {\n",
              "      background-color: #E2EBFA;\n",
              "      box-shadow: 0px 1px 2px rgba(60, 64, 67, 0.3), 0px 1px 3px 1px rgba(60, 64, 67, 0.15);\n",
              "      fill: #174EA6;\n",
              "    }\n",
              "\n",
              "    .colab-df-buttons div {\n",
              "      margin-bottom: 4px;\n",
              "    }\n",
              "\n",
              "    [theme=dark] .colab-df-convert {\n",
              "      background-color: #3B4455;\n",
              "      fill: #D2E3FC;\n",
              "    }\n",
              "\n",
              "    [theme=dark] .colab-df-convert:hover {\n",
              "      background-color: #434B5C;\n",
              "      box-shadow: 0px 1px 3px 1px rgba(0, 0, 0, 0.15);\n",
              "      filter: drop-shadow(0px 1px 2px rgba(0, 0, 0, 0.3));\n",
              "      fill: #FFFFFF;\n",
              "    }\n",
              "  </style>\n",
              "\n",
              "    <script>\n",
              "      const buttonEl =\n",
              "        document.querySelector('#df-3122c9b8-04c1-4482-9328-50fbb32023b8 button.colab-df-convert');\n",
              "      buttonEl.style.display =\n",
              "        google.colab.kernel.accessAllowed ? 'block' : 'none';\n",
              "\n",
              "      async function convertToInteractive(key) {\n",
              "        const element = document.querySelector('#df-3122c9b8-04c1-4482-9328-50fbb32023b8');\n",
              "        const dataTable =\n",
              "          await google.colab.kernel.invokeFunction('convertToInteractive',\n",
              "                                                    [key], {});\n",
              "        if (!dataTable) return;\n",
              "\n",
              "        const docLinkHtml = 'Like what you see? Visit the ' +\n",
              "          '<a target=\"_blank\" href=https://colab.research.google.com/notebooks/data_table.ipynb>data table notebook</a>'\n",
              "          + ' to learn more about interactive tables.';\n",
              "        element.innerHTML = '';\n",
              "        dataTable['output_type'] = 'display_data';\n",
              "        await google.colab.output.renderOutput(dataTable, element);\n",
              "        const docLink = document.createElement('div');\n",
              "        docLink.innerHTML = docLinkHtml;\n",
              "        element.appendChild(docLink);\n",
              "      }\n",
              "    </script>\n",
              "  </div>\n",
              "\n",
              "\n",
              "<div id=\"df-eaa36192-fdf9-445b-9dc1-ebedf7d300a6\">\n",
              "  <button class=\"colab-df-quickchart\" onclick=\"quickchart('df-eaa36192-fdf9-445b-9dc1-ebedf7d300a6')\"\n",
              "            title=\"Suggest charts\"\n",
              "            style=\"display:none;\">\n",
              "\n",
              "<svg xmlns=\"http://www.w3.org/2000/svg\" height=\"24px\"viewBox=\"0 0 24 24\"\n",
              "     width=\"24px\">\n",
              "    <g>\n",
              "        <path d=\"M19 3H5c-1.1 0-2 .9-2 2v14c0 1.1.9 2 2 2h14c1.1 0 2-.9 2-2V5c0-1.1-.9-2-2-2zM9 17H7v-7h2v7zm4 0h-2V7h2v10zm4 0h-2v-4h2v4z\"/>\n",
              "    </g>\n",
              "</svg>\n",
              "  </button>\n",
              "\n",
              "<style>\n",
              "  .colab-df-quickchart {\n",
              "      --bg-color: #E8F0FE;\n",
              "      --fill-color: #1967D2;\n",
              "      --hover-bg-color: #E2EBFA;\n",
              "      --hover-fill-color: #174EA6;\n",
              "      --disabled-fill-color: #AAA;\n",
              "      --disabled-bg-color: #DDD;\n",
              "  }\n",
              "\n",
              "  [theme=dark] .colab-df-quickchart {\n",
              "      --bg-color: #3B4455;\n",
              "      --fill-color: #D2E3FC;\n",
              "      --hover-bg-color: #434B5C;\n",
              "      --hover-fill-color: #FFFFFF;\n",
              "      --disabled-bg-color: #3B4455;\n",
              "      --disabled-fill-color: #666;\n",
              "  }\n",
              "\n",
              "  .colab-df-quickchart {\n",
              "    background-color: var(--bg-color);\n",
              "    border: none;\n",
              "    border-radius: 50%;\n",
              "    cursor: pointer;\n",
              "    display: none;\n",
              "    fill: var(--fill-color);\n",
              "    height: 32px;\n",
              "    padding: 0;\n",
              "    width: 32px;\n",
              "  }\n",
              "\n",
              "  .colab-df-quickchart:hover {\n",
              "    background-color: var(--hover-bg-color);\n",
              "    box-shadow: 0 1px 2px rgba(60, 64, 67, 0.3), 0 1px 3px 1px rgba(60, 64, 67, 0.15);\n",
              "    fill: var(--button-hover-fill-color);\n",
              "  }\n",
              "\n",
              "  .colab-df-quickchart-complete:disabled,\n",
              "  .colab-df-quickchart-complete:disabled:hover {\n",
              "    background-color: var(--disabled-bg-color);\n",
              "    fill: var(--disabled-fill-color);\n",
              "    box-shadow: none;\n",
              "  }\n",
              "\n",
              "  .colab-df-spinner {\n",
              "    border: 2px solid var(--fill-color);\n",
              "    border-color: transparent;\n",
              "    border-bottom-color: var(--fill-color);\n",
              "    animation:\n",
              "      spin 1s steps(1) infinite;\n",
              "  }\n",
              "\n",
              "  @keyframes spin {\n",
              "    0% {\n",
              "      border-color: transparent;\n",
              "      border-bottom-color: var(--fill-color);\n",
              "      border-left-color: var(--fill-color);\n",
              "    }\n",
              "    20% {\n",
              "      border-color: transparent;\n",
              "      border-left-color: var(--fill-color);\n",
              "      border-top-color: var(--fill-color);\n",
              "    }\n",
              "    30% {\n",
              "      border-color: transparent;\n",
              "      border-left-color: var(--fill-color);\n",
              "      border-top-color: var(--fill-color);\n",
              "      border-right-color: var(--fill-color);\n",
              "    }\n",
              "    40% {\n",
              "      border-color: transparent;\n",
              "      border-right-color: var(--fill-color);\n",
              "      border-top-color: var(--fill-color);\n",
              "    }\n",
              "    60% {\n",
              "      border-color: transparent;\n",
              "      border-right-color: var(--fill-color);\n",
              "    }\n",
              "    80% {\n",
              "      border-color: transparent;\n",
              "      border-right-color: var(--fill-color);\n",
              "      border-bottom-color: var(--fill-color);\n",
              "    }\n",
              "    90% {\n",
              "      border-color: transparent;\n",
              "      border-bottom-color: var(--fill-color);\n",
              "    }\n",
              "  }\n",
              "</style>\n",
              "\n",
              "  <script>\n",
              "    async function quickchart(key) {\n",
              "      const quickchartButtonEl =\n",
              "        document.querySelector('#' + key + ' button');\n",
              "      quickchartButtonEl.disabled = true;  // To prevent multiple clicks.\n",
              "      quickchartButtonEl.classList.add('colab-df-spinner');\n",
              "      try {\n",
              "        const charts = await google.colab.kernel.invokeFunction(\n",
              "            'suggestCharts', [key], {});\n",
              "      } catch (error) {\n",
              "        console.error('Error during call to suggestCharts:', error);\n",
              "      }\n",
              "      quickchartButtonEl.classList.remove('colab-df-spinner');\n",
              "      quickchartButtonEl.classList.add('colab-df-quickchart-complete');\n",
              "    }\n",
              "    (() => {\n",
              "      let quickchartButtonEl =\n",
              "        document.querySelector('#df-eaa36192-fdf9-445b-9dc1-ebedf7d300a6 button');\n",
              "      quickchartButtonEl.style.display =\n",
              "        google.colab.kernel.accessAllowed ? 'block' : 'none';\n",
              "    })();\n",
              "  </script>\n",
              "</div>\n",
              "    </div>\n",
              "  </div>\n"
            ],
            "text/plain": [
              "                                                review  sentiment    target  \\\n",
              "0    Absolute Masterpiece i hate the people who gav...          5  positive   \n",
              "1                 amazing but the fandom isn't amazing          5  positive   \n",
              "2                                            Very nice          5  positive   \n",
              "3                  Give me gambling money (primo gems)          4  positive   \n",
              "4    This is one my first Open World RPG games, and...          4  positive   \n",
              "..                                                 ...        ...       ...   \n",
              "990                                               Yeah          4  positive   \n",
              "991                                      Getting bored          3   neutral   \n",
              "992                                    This game sucks          1  negative   \n",
              "993  \"If Adventuring in Teyvat was a dream, Genshin...          5  positive   \n",
              "994  I love this game it's so slay 🥰😍💅✨🤩🤑🤭🔥🤯😇😃😘😜☺️❤️💖👍          5  positive   \n",
              "\n",
              "                                        text_processed  label  \n",
              "0    absolute masterpiece hate people gave beautifu...      2  \n",
              "1                           amazing fandom n't amazing      2  \n",
              "2                                                 nice      2  \n",
              "3                        give gambling money primo gem      2  \n",
              "4    one first open world rpg game think never love...      2  \n",
              "..                                                 ...    ...  \n",
              "990                                               yeah      2  \n",
              "991                                      getting bored      1  \n",
              "992                                          game suck      0  \n",
              "993  adventuring teyvat dream genshin impact truly ...      2  \n",
              "994                                     love game slay      2  \n",
              "\n",
              "[948 rows x 5 columns]"
            ]
          },
          "execution_count": 109,
          "metadata": {},
          "output_type": "execute_result"
        }
      ],
      "source": [
        "# Change Target into Number\n",
        "df['label'] = df['target'].replace({'negative': 0,\n",
        "                                    'neutral': 1, 'positive': 2})\n",
        "\n",
        "# Call the dataset after customised\n",
        "df"
      ]
    },
    {
      "cell_type": "markdown",
      "metadata": {
        "id": "nanXW8DuN4oW"
      },
      "source": [
        "the summary from the target display to the cell code above, is to double-check the result after configuration to see whether the works has been successsfully accomplished, starting from checking the sentiment level to the `target`, after grasping the `target` then put the final configuration into the column of `label` which consists of the encoding from the column `target` that translated from `sentiment`."
      ]
    },
    {
      "cell_type": "code",
      "execution_count": 110,
      "metadata": {
        "colab": {
          "base_uri": "https://localhost:8080/"
        },
        "id": "glIi4207bY7y",
        "outputId": "faf899e2-7364-4ad5-ceb3-dfc593968d8d"
      },
      "outputs": [
        {
          "data": {
            "text/plain": [
              "label\n",
              "2    614\n",
              "0    276\n",
              "1     58\n",
              "Name: count, dtype: int64"
            ]
          },
          "execution_count": 110,
          "metadata": {},
          "output_type": "execute_result"
        }
      ],
      "source": [
        "# Display the Target\n",
        "df['label'].value_counts()"
      ]
    },
    {
      "cell_type": "code",
      "execution_count": 111,
      "metadata": {
        "colab": {
          "base_uri": "https://localhost:8080/"
        },
        "id": "Ispkt9XYbY7z",
        "outputId": "263efd16-35c6-498f-dc0d-2f980b08b220"
      },
      "outputs": [
        {
          "name": "stdout",
          "output_type": "stream",
          "text": [
            "Train Size :  (724,)\n",
            "Val Size   :  (81,)\n",
            "Test Size  :  (143,)\n"
          ]
        }
      ],
      "source": [
        "# Data Splitting\n",
        "X_train_val, X_test, y_train_val, y_test = train_test_split(df.text_processed,\n",
        "                                                    df.label,\n",
        "                                                    test_size=0.15,\n",
        "                                                    random_state=20,\n",
        "                                                    stratify=df.label)\n",
        "\n",
        "X_train, X_val, y_train, y_val = train_test_split(X_train_val,\n",
        "                                                  y_train_val,\n",
        "                                                  test_size=0.10,\n",
        "                                                  random_state=20,\n",
        "                                                  stratify=y_train_val)\n",
        "\n",
        "print('Train Size : ', X_train.shape)\n",
        "print('Val Size   : ', X_val.shape)\n",
        "print('Test Size  : ', X_test.shape)"
      ]
    },
    {
      "cell_type": "code",
      "execution_count": 112,
      "metadata": {
        "colab": {
          "base_uri": "https://localhost:8080/"
        },
        "id": "wdX9s12ybY7z",
        "outputId": "c2837668-6527-4fd5-b3cc-d081b0fb6c60"
      },
      "outputs": [
        {
          "data": {
            "text/plain": [
              "array([[0., 0., 1.],\n",
              "       [0., 0., 1.],\n",
              "       [0., 0., 1.],\n",
              "       ...,\n",
              "       [0., 1., 0.],\n",
              "       [0., 0., 1.],\n",
              "       [0., 0., 1.]], dtype=float32)"
            ]
          },
          "execution_count": 112,
          "metadata": {},
          "output_type": "execute_result"
        }
      ],
      "source": [
        "# Change Target to One Hot Encoding\n",
        "y_train_ohe = to_categorical(y_train)\n",
        "y_val_ohe = to_categorical(y_val)\n",
        "y_test_ohe = to_categorical(y_test)\n",
        "y_train_ohe"
      ]
    },
    {
      "cell_type": "markdown",
      "metadata": {
        "id": "-dIn7N_fNz2a"
      },
      "source": [
        "> there are three cell code above that about to be narrates.\n",
        "\n",
        "the first cell code is to check the counts of the data numbers in the column of `label`.\n",
        "\n",
        "the second cell code is to separate the data into three types for this task, there are: Train-set (for the testing reference), Val-set (it's like the quality check pass of the data from the Train-set), then Test-set (the final output that about to be implemented)\n",
        "\n",
        "the third cell code is to convert the target into One Hot Encoding where the output is in between 0 and 1."
      ]
    },
    {
      "cell_type": "markdown",
      "metadata": {
        "id": "GTukd_zdbY70"
      },
      "source": [
        "### ***6. ANN Training (Sequential API / Functional API)***\n",
        "\n",
        "In this section, we would like to initiate the preliminary experiment after finished the Feature Engineering for the model we created by going through the definition of the model, then training the model that has been defined, after we trained the defined model, we are going through the evaluation after implement the model we created. it's like the prototype model before we execute into real case."
      ]
    },
    {
      "cell_type": "markdown",
      "metadata": {
        "id": "e7qv7pfibY73"
      },
      "source": [
        "- Model Definition"
      ]
    },
    {
      "cell_type": "code",
      "execution_count": 113,
      "metadata": {
        "colab": {
          "base_uri": "https://localhost:8080/"
        },
        "id": "xCVMJqT1bY70",
        "outputId": "647f4063-1f8c-48fa-c923-eeb7c56b5748"
      },
      "outputs": [
        {
          "data": {
            "text/plain": [
              "<724x2017 sparse matrix of type '<class 'numpy.int64'>'\n",
              "\twith 6949 stored elements in Compressed Sparse Row format>"
            ]
          },
          "execution_count": 113,
          "metadata": {},
          "output_type": "execute_result"
        }
      ],
      "source": [
        "# At this point the user don't have any idea whether\n",
        "## this cell code already in this section or not\n",
        "\n",
        "# Vectorisation to get Vocabularies\n",
        "Vectorize = CountVectorizer()\n",
        "X_train_vec = Vectorize.fit_transform(X_train)\n",
        "X_test_vec = Vectorize.transform(X_test)\n",
        "\n",
        "X_train_vec"
      ]
    },
    {
      "cell_type": "code",
      "execution_count": 114,
      "metadata": {
        "colab": {
          "base_uri": "https://localhost:8080/"
        },
        "id": "C3KeSj8GbY71",
        "outputId": "77b55610-1f8c-4e87-c16a-3149507c2850"
      },
      "outputs": [
        {
          "name": "stdout",
          "output_type": "stream",
          "text": [
            "Total Vocab:2017\n",
            "Maximum Sentence Length are: 79 tokens\n"
          ]
        }
      ],
      "source": [
        "# Finding the number of Vocabularies & Max Token Length in One Document\n",
        "\n",
        "totalVocab = len(Vectorize.vocabulary_.keys())\n",
        "maxSenLen = max([len(i.split(\" \")) for i in X_train])\n",
        "\n",
        "# Call the combo variable\n",
        "print(f'Total Vocab:{totalVocab}')\n",
        "print(f'Maximum Sentence Length are: {maxSenLen} tokens')"
      ]
    },
    {
      "cell_type": "markdown",
      "metadata": {
        "id": "Y9klx5v5Pz4q"
      },
      "source": [
        "the output indicates that the whole dataset contains 2017 words, and there are one longest sentence which contains 79 words which translated into a tokens where we would like to experiment further for the model we created."
      ]
    },
    {
      "cell_type": "code",
      "execution_count": 115,
      "metadata": {
        "id": "PjRpOlC6bY71"
      },
      "outputs": [],
      "source": [
        "# Text Vectorisation\n",
        "\n",
        "text_vectorisation = TextVectorization(max_tokens=totalVocab,\n",
        "                                       standardize=\"lower_and_strip_punctuation\",\n",
        "                                       split=\"whitespace\",\n",
        "                                       ngrams=None,\n",
        "                                       output_mode=\"int\",\n",
        "                                       output_sequence_length=maxSenLen,\n",
        "                                       input_shape=(1,)) # Only use in Sequential API\n",
        "\n",
        "text_vectorisation.adapt(X_train)"
      ]
    },
    {
      "cell_type": "code",
      "execution_count": 116,
      "metadata": {
        "colab": {
          "base_uri": "https://localhost:8080/"
        },
        "id": "qLjysBAHbY71",
        "outputId": "a57dd73e-d82a-4f14-9aae-65e63d31f4c8"
      },
      "outputs": [
        {
          "name": "stdout",
          "output_type": "stream",
          "text": [
            "Document example\n",
            "absolute masterpiece hate people gave beautiful game star n't storage play n't mean problem\n",
            "\n",
            "Result of Text Vectorization\n",
            "tf.Tensor(\n",
            "[[ 850 1390  147   79  498   54    2   15    3   22    6    3  212   62\n",
            "     0    0    0    0    0    0    0    0    0    0    0    0    0    0\n",
            "     0    0    0    0    0    0    0    0    0    0    0    0    0    0\n",
            "     0    0    0    0    0    0    0    0    0    0    0    0    0    0\n",
            "     0    0    0    0    0    0    0    0    0    0    0    0    0    0\n",
            "     0    0    0    0    0    0    0    0    0]], shape=(1, 79), dtype=int64)\n",
            "Vector size :  (1, 79)\n"
          ]
        }
      ],
      "source": [
        "# Example Result\n",
        "\n",
        "## Document example\n",
        "print('Document example')\n",
        "print(df.text_processed[0])\n",
        "print('')\n",
        "\n",
        "## Result of Text Vectorization\n",
        "print('Result of Text Vectorization')\n",
        "print(text_vectorisation([df.text_processed[0]]))\n",
        "print('Vector size : ', text_vectorisation([df.text_processed[0]]).shape)"
      ]
    },
    {
      "cell_type": "code",
      "execution_count": 117,
      "metadata": {
        "colab": {
          "base_uri": "https://localhost:8080/"
        },
        "id": "3lrdPeAPbY72",
        "outputId": "5948bed1-41a8-4c4a-8e5c-860ea68a2ae5"
      },
      "outputs": [
        {
          "data": {
            "text/plain": [
              "['',\n",
              " '[UNK]',\n",
              " 'game',\n",
              " 'nt',\n",
              " 'love',\n",
              " 'character',\n",
              " 'play',\n",
              " 'get',\n",
              " 'really',\n",
              " 'give',\n",
              " 'much',\n",
              " 'story',\n",
              " 'playing',\n",
              " 'genshin',\n",
              " 'time',\n",
              " 'star',\n",
              " 'fun',\n",
              " 'best',\n",
              " 'even',\n",
              " 'amazing']"
            ]
          },
          "execution_count": 117,
          "metadata": {},
          "output_type": "execute_result"
        }
      ],
      "source": [
        "# View the Top 20 Tokens (Sorted by the Highest Frequency of Appearance)\n",
        "\n",
        "text_vectorisation.get_vocabulary()[:20]"
      ]
    },
    {
      "cell_type": "code",
      "execution_count": 118,
      "metadata": {
        "id": "3NNJDZ9kbY72"
      },
      "outputs": [],
      "source": [
        "embedding = Embedding(input_dim=totalVocab,\n",
        "                      output_dim=128,\n",
        "                      embeddings_initializer=\"uniform\",\n",
        "                      input_length=maxSenLen)"
      ]
    },
    {
      "cell_type": "code",
      "execution_count": 119,
      "metadata": {
        "colab": {
          "base_uri": "https://localhost:8080/"
        },
        "id": "yn7R_eHhbY73",
        "outputId": "c1392896-a548-4123-f7c8-3bcedc34b045"
      },
      "outputs": [
        {
          "name": "stdout",
          "output_type": "stream",
          "text": [
            "Document example\n",
            "absolute masterpiece hate people gave beautiful game star n't storage play n't mean problem\n",
            "\n",
            "Result of  Text Vectorization\n",
            "tf.Tensor(\n",
            "[[ 850 1390  147   79  498   54    2   15    3   22    6    3  212   62\n",
            "     0    0    0    0    0    0    0    0    0    0    0    0    0    0\n",
            "     0    0    0    0    0    0    0    0    0    0    0    0    0    0\n",
            "     0    0    0    0    0    0    0    0    0    0    0    0    0    0\n",
            "     0    0    0    0    0    0    0    0    0    0    0    0    0    0\n",
            "     0    0    0    0    0    0    0    0    0]], shape=(1, 79), dtype=int64)\n",
            "Vector size :  (1, 79)\n",
            "\n",
            "Result of  Embedding\n",
            "tf.Tensor(\n",
            "[[[-0.04761494 -0.01043042  0.02612528 ...  0.01233709  0.02866452\n",
            "    0.01630962]\n",
            "  [-0.0342494   0.02870406  0.01592732 ...  0.00852033  0.03223157\n",
            "   -0.00299407]\n",
            "  [-0.00387335  0.04969795  0.01829058 ...  0.01240142 -0.00314599\n",
            "   -0.04726195]\n",
            "  ...\n",
            "  [ 0.04224542  0.01231723  0.01330775 ... -0.01981616  0.03348171\n",
            "   -0.01912752]\n",
            "  [ 0.04224542  0.01231723  0.01330775 ... -0.01981616  0.03348171\n",
            "   -0.01912752]\n",
            "  [ 0.04224542  0.01231723  0.01330775 ... -0.01981616  0.03348171\n",
            "   -0.01912752]]], shape=(1, 79, 128), dtype=float32)\n",
            "Vector size :  (1, 79, 128)\n"
          ]
        }
      ],
      "source": [
        "## Document example\n",
        "print('Document example')\n",
        "print(df.text_processed[0])\n",
        "print('')\n",
        "\n",
        "## Result of Text Vectorization\n",
        "print('Result of  Text Vectorization')\n",
        "print(text_vectorisation([df.text_processed[0]]))\n",
        "print('Vector size : ', text_vectorisation([df.text_processed[0]]).shape)\n",
        "print('')\n",
        "\n",
        "## Result of  Embedding\n",
        "print('Result of  Embedding')\n",
        "print(embedding(text_vectorisation([df.text_processed[0]])))\n",
        "print('Vector size : ', embedding(text_vectorisation([df.text_processed[0]])).shape)"
      ]
    },
    {
      "cell_type": "markdown",
      "metadata": {
        "id": "T7_w5maKbY74"
      },
      "source": [
        "- Model Training"
      ]
    },
    {
      "cell_type": "code",
      "execution_count": 121,
      "metadata": {
        "colab": {
          "base_uri": "https://localhost:8080/"
        },
        "id": "5VPCdamObY74",
        "outputId": "47eb9408-393d-49ee-d355-947aed46c417"
      },
      "outputs": [
        {
          "data": {
            "text/plain": [
              "array([[0., 0., 1.],\n",
              "       [0., 0., 1.],\n",
              "       [0., 0., 1.],\n",
              "       ...,\n",
              "       [0., 1., 0.],\n",
              "       [0., 0., 1.],\n",
              "       [0., 0., 1.]], dtype=float32)"
            ]
          },
          "execution_count": 121,
          "metadata": {},
          "output_type": "execute_result"
        }
      ],
      "source": [
        "y_train_ohe"
      ]
    },
    {
      "cell_type": "code",
      "execution_count": 122,
      "metadata": {
        "colab": {
          "base_uri": "https://localhost:8080/"
        },
        "id": "yO9J46EmbY75",
        "outputId": "e2bc242b-a608-4c1e-c467-c96c2ab4736c"
      },
      "outputs": [
        {
          "name": "stdout",
          "output_type": "stream",
          "text": [
            "X_train type: <class 'pandas.core.series.Series'> shape: (724,)\n",
            "y_train_ohe type: <class 'numpy.ndarray'> shape: (724, 3)\n",
            "X_val type: <class 'pandas.core.series.Series'> shape: (81,)\n",
            "y_val_ohe type: <class 'numpy.ndarray'> shape: (81, 3)\n"
          ]
        }
      ],
      "source": [
        "# check the data types and shapes before passing them to the model:\n",
        "print(\"X_train type:\", type(X_train), \"shape:\", X_train.shape)\n",
        "print(\"y_train_ohe type:\", type(y_train_ohe), \"shape:\", y_train_ohe.shape)\n",
        "print(\"X_val type:\", type(X_val), \"shape:\", X_val.shape)\n",
        "print(\"y_val_ohe type:\", type(y_val_ohe), \"shape:\", y_val_ohe.shape)\n"
      ]
    },
    {
      "cell_type": "code",
      "execution_count": 123,
      "metadata": {
        "colab": {
          "base_uri": "https://localhost:8080/"
        },
        "id": "ha-nf5bAbY75",
        "outputId": "c379d2b2-ea6f-493e-c0b6-25d4618206e7"
      },
      "outputs": [
        {
          "data": {
            "text/plain": [
              "313                                                 game\n",
              "568    resolution low phone even seting highest possi...\n",
              "382                                gacha gak bagus bagus\n",
              "921    loved silly bug fixed story character design e...\n",
              "297                                        nice game lag\n",
              "                             ...                        \n",
              "502                                                     \n",
              "731    j amazingg luv detail gravity woman anatomy yk...\n",
              "661    great game overall tartaglia bos fight keep gl...\n",
              "379    sad see game become nothing cash grab wasted p...\n",
              "670    going lie funner honka star rail cuz needed ta...\n",
              "Name: text_processed, Length: 724, dtype: object"
            ]
          },
          "execution_count": 123,
          "metadata": {},
          "output_type": "execute_result"
        }
      ],
      "source": [
        "X_train"
      ]
    },
    {
      "cell_type": "code",
      "execution_count": 124,
      "metadata": {
        "colab": {
          "base_uri": "https://localhost:8080/"
        },
        "id": "96NIwkvHbY75",
        "outputId": "788f2806-c2aa-4ba5-b698-76e8e6b76fed"
      },
      "outputs": [
        {
          "name": "stdout",
          "output_type": "stream",
          "text": [
            "Epoch 1/50\n",
            "23/23 [==============================] - 38s 535ms/step - loss: 0.8984 - accuracy: 0.6506 - val_loss: 0.8005 - val_accuracy: 0.6420\n",
            "Epoch 2/50\n",
            "23/23 [==============================] - 6s 259ms/step - loss: 0.7591 - accuracy: 0.6533 - val_loss: 0.7581 - val_accuracy: 0.6543\n",
            "Epoch 3/50\n",
            "23/23 [==============================] - 8s 372ms/step - loss: 0.6431 - accuracy: 0.7652 - val_loss: 0.6263 - val_accuracy: 0.7531\n",
            "Epoch 4/50\n",
            "23/23 [==============================] - 7s 291ms/step - loss: 0.4378 - accuracy: 0.8605 - val_loss: 0.6559 - val_accuracy: 0.7901\n",
            "Epoch 5/50\n",
            "23/23 [==============================] - 9s 404ms/step - loss: 0.3415 - accuracy: 0.8964 - val_loss: 0.7771 - val_accuracy: 0.7284\n",
            "Epoch 6/50\n",
            "23/23 [==============================] - 5s 198ms/step - loss: 0.2561 - accuracy: 0.9199 - val_loss: 0.8834 - val_accuracy: 0.7531\n",
            "Epoch 7/50\n",
            "23/23 [==============================] - 4s 155ms/step - loss: 0.2058 - accuracy: 0.9268 - val_loss: 0.9486 - val_accuracy: 0.7531\n",
            "Epoch 8/50\n",
            "23/23 [==============================] - ETA: 0s - loss: 0.1667 - accuracy: 0.9461Restoring model weights from the end of the best epoch: 3.\n",
            "23/23 [==============================] - 5s 219ms/step - loss: 0.1667 - accuracy: 0.9461 - val_loss: 1.0309 - val_accuracy: 0.7654\n",
            "Epoch 8: early stopping\n"
          ]
        }
      ],
      "source": [
        "## Clear Session\n",
        "seed = 20\n",
        "tf.keras.backend.clear_session()\n",
        "np.random.seed(seed)\n",
        "tf.random.set_seed(seed)\n",
        "\n",
        "## Define the architecture\n",
        "model_lstm_1 = Sequential()\n",
        "model_lstm_1.add(text_vectorisation)\n",
        "model_lstm_1.add(embedding)\n",
        "model_lstm_1.add(Bidirectional(LSTM(32, return_sequences=True, kernel_initializer=tf.keras.initializers.GlorotUniform(seed))))\n",
        "model_lstm_1.add(Dropout(0.1))\n",
        "model_lstm_1.add(Bidirectional(LSTM(32, kernel_initializer=tf.keras.initializers.GlorotUniform(seed))))\n",
        "model_lstm_1.add(Dropout(0.1))\n",
        "model_lstm_1.add(Dense(3, activation='softmax'))\n",
        "\n",
        "model_lstm_1.compile(loss='categorical_crossentropy', optimizer='adam', metrics=['accuracy'])\n",
        "\n",
        "# Define EarlyStopping Callbacks\n",
        "earlyStopping = EarlyStopping(monitor='val_loss', patience=5, verbose=1, restore_best_weights=True)\n",
        "\n",
        "# Train the Model\n",
        "model_lstm_1_hist = model_lstm_1.fit(X_train, y_train_ohe, epochs=50, validation_data=(X_val, y_val_ohe), callbacks=[earlyStopping])"
      ]
    },
    {
      "cell_type": "markdown",
      "metadata": {
        "id": "Gd69IQTVSWJb"
      },
      "source": [
        "The Model learns the pattern or its subject to grasp the dataset to extract all review into three categories: Positive, Neutral, and Negative. EPOCH in this output means how many times does the model have to learn and understand the concept of the dataset after we create the pattern to make an output. it seems that at EPOCH 8 indicates that the best learning is at eight times experiments of learning.  "
      ]
    },
    {
      "cell_type": "markdown",
      "metadata": {
        "id": "a8JzIO9NbY76"
      },
      "source": [
        "- Model Evaluation"
      ]
    },
    {
      "cell_type": "code",
      "execution_count": 125,
      "metadata": {
        "colab": {
          "base_uri": "https://localhost:8080/",
          "height": 468
        },
        "id": "g85QinmebY76",
        "outputId": "4883e2f6-fe1e-41e5-d897-b748c5accccb"
      },
      "outputs": [
        {
          "data": {
            "image/png": "[encoded data removed]",
            "text/plain": [
              "<Figure size 1500x500 with 2 Axes>"
            ]
          },
          "metadata": {},
          "output_type": "display_data"
        }
      ],
      "source": [
        "# Write your code here\n",
        "\n",
        "# Plot Training Results\n",
        "\n",
        "model_lstm_1_hist_df = pd.DataFrame(model_lstm_1_hist.history)\n",
        "\n",
        "plt.figure(figsize=(15, 5))\n",
        "plt.subplot(1, 2, 1)\n",
        "sns.lineplot(data=model_lstm_1_hist_df[['accuracy', 'val_accuracy']])\n",
        "plt.grid()\n",
        "plt.title('Accuracy vs Val-Accuracy')\n",
        "\n",
        "plt.subplot(1, 2, 2)\n",
        "sns.lineplot(data=model_lstm_1_hist_df[['loss', 'val_loss']])\n",
        "plt.grid()\n",
        "plt.title('Loss vs Val-Loss')\n",
        "plt.show()"
      ]
    },
    {
      "cell_type": "markdown",
      "metadata": {},
      "source": [
        "from the graphs above, we can depict that the learning curves of accuracy seems to be good fit beginning from the 0th to 1st EPOCH which means the machine learns well to the 2nd EPOCH, but turns out underfit due to some uncertain texts in different language starting from the 3rd EPOCH to 7th EPOCH. the model above stopped early at 7th EPOCH because the user thinks that the highest peak of machine's learning is at it's best condition. \n",
        "\n",
        "Meanwhile the learning curves of loss (graphs on the right canvas), it is similar to the learning curves of accuracy which it tends to be good fit on the 0th to 2nd EPOCH. However, the model's learning unfortunately overfitting from the 3rd EPOCH to the 7th EPOCH. stopped early again due to the highest peak of machine's laerning at best condition. \n",
        "\n",
        "the reason to use CallBack of EarlyStopping is to simply prevent the overfitting or underfitting. but it turns out the reality seems quite underfit for the accuracy's learning curve and overfit for val-loss"
      ]
    },
    {
      "cell_type": "markdown",
      "metadata": {
        "id": "L0QA3VW0bY77"
      },
      "source": [
        "### ***7. ANN Improvement (Sequential API / Functional API)***\n",
        "\n",
        "after the preliminary model implementation, this section is to improve the model learning by using Transfer Learning."
      ]
    },
    {
      "cell_type": "markdown",
      "metadata": {
        "id": "Jr_wzdFsbY77"
      },
      "source": [
        "- Model Definition"
      ]
    },
    {
      "cell_type": "code",
      "execution_count": 126,
      "metadata": {
        "id": "TBgUjtZNbY77"
      },
      "outputs": [],
      "source": [
        "# Write your code here\n",
        "\n",
        "## Download the Embedding Layer for improvement graphs above\n",
        "\n",
        "url = \"https://www.kaggle.com/models/google/nnlm/TensorFlow2/en-dim128-with-normalization/1\"\n",
        "\n",
        "hub_layer = tf_hub.KerasLayer(url, output_shape=[128], input_shape=[], dtype=tf.string)"
      ]
    },
    {
      "cell_type": "markdown",
      "metadata": {
        "id": "2TfTxm_ebY78"
      },
      "source": [
        "- Model Training"
      ]
    },
    {
      "cell_type": "code",
      "execution_count": 127,
      "metadata": {
        "colab": {
          "base_uri": "https://localhost:8080/"
        },
        "id": "wRSf9kTlbY78",
        "outputId": "f9c43e02-8eb0-44b9-ac9e-957efadb8009"
      },
      "outputs": [
        {
          "name": "stdout",
          "output_type": "stream",
          "text": [
            "Epoch 1/50\n",
            "23/23 [==============================] - 16s 309ms/step - loss: 0.9621 - accuracy: 0.6271 - val_loss: 0.8220 - val_accuracy: 0.6420\n",
            "Epoch 2/50\n",
            "23/23 [==============================] - 8s 331ms/step - loss: 0.8367 - accuracy: 0.6492 - val_loss: 0.8192 - val_accuracy: 0.6420\n",
            "Epoch 3/50\n",
            "23/23 [==============================] - 4s 172ms/step - loss: 0.8200 - accuracy: 0.6492 - val_loss: 0.8162 - val_accuracy: 0.6420\n",
            "Epoch 4/50\n",
            "23/23 [==============================] - 4s 162ms/step - loss: 0.8168 - accuracy: 0.6492 - val_loss: 0.8166 - val_accuracy: 0.6420\n",
            "Epoch 5/50\n",
            "23/23 [==============================] - 5s 242ms/step - loss: 0.8280 - accuracy: 0.6492 - val_loss: 0.8175 - val_accuracy: 0.6420\n",
            "Epoch 6/50\n",
            "23/23 [==============================] - 4s 173ms/step - loss: 0.8093 - accuracy: 0.6492 - val_loss: 0.8138 - val_accuracy: 0.6420\n",
            "Epoch 7/50\n",
            "23/23 [==============================] - 4s 169ms/step - loss: 0.8117 - accuracy: 0.6492 - val_loss: 0.8090 - val_accuracy: 0.6420\n",
            "Epoch 8/50\n",
            "23/23 [==============================] - 6s 287ms/step - loss: 0.8030 - accuracy: 0.6492 - val_loss: 0.8090 - val_accuracy: 0.6420\n",
            "Epoch 9/50\n",
            "23/23 [==============================] - 7s 292ms/step - loss: 0.7977 - accuracy: 0.6492 - val_loss: 0.8023 - val_accuracy: 0.6420\n",
            "Epoch 10/50\n",
            "23/23 [==============================] - 5s 215ms/step - loss: 0.7906 - accuracy: 0.6561 - val_loss: 0.7900 - val_accuracy: 0.6420\n",
            "Epoch 11/50\n",
            "23/23 [==============================] - 5s 207ms/step - loss: 0.7854 - accuracy: 0.6423 - val_loss: 0.8225 - val_accuracy: 0.6420\n",
            "Epoch 12/50\n",
            "23/23 [==============================] - 4s 163ms/step - loss: 0.7788 - accuracy: 0.6644 - val_loss: 0.7945 - val_accuracy: 0.6420\n",
            "Epoch 13/50\n",
            "23/23 [==============================] - 4s 161ms/step - loss: 0.7709 - accuracy: 0.6630 - val_loss: 0.8112 - val_accuracy: 0.6420\n",
            "Epoch 14/50\n",
            "23/23 [==============================] - 5s 241ms/step - loss: 0.7617 - accuracy: 0.6878 - val_loss: 0.7994 - val_accuracy: 0.6667\n",
            "Epoch 15/50\n",
            "23/23 [==============================] - ETA: 0s - loss: 0.7760 - accuracy: 0.6713Restoring model weights from the end of the best epoch: 10.\n",
            "23/23 [==============================] - 5s 212ms/step - loss: 0.7760 - accuracy: 0.6713 - val_loss: 0.8102 - val_accuracy: 0.6173\n",
            "Epoch 15: early stopping\n"
          ]
        }
      ],
      "source": [
        "# Write your code here\n",
        "\n",
        "## Clear Session\n",
        "seed = 20\n",
        "tf.keras.backend.clear_session()\n",
        "np.random.seed(seed)\n",
        "tf.random.set_seed(seed)\n",
        "\n",
        "## Define the architecture\n",
        "model_lstm_2 = Sequential()\n",
        "model_lstm_2.add(hub_layer)\n",
        "model_lstm_2.add(Reshape((128, 1)))\n",
        "model_lstm_2.add(Bidirectional(LSTM(32, return_sequences=True, kernel_initializer=tf.keras.initializers.GlorotUniform(seed))))\n",
        "model_lstm_2.add(Dropout(0.3))\n",
        "model_lstm_2.add(Bidirectional(LSTM(32, kernel_initializer=tf.keras.initializers.GlorotUniform(seed))))\n",
        "model_lstm_2.add(Dropout(0.3))\n",
        "model_lstm_2.add(Dense(3, activation='softmax'))\n",
        "\n",
        "model_lstm_2.compile(loss='categorical_crossentropy', optimizer='adam', metrics='accuracy')\n",
        "\n",
        "# Define EarlyStopping Callbacks\n",
        "earlyStopping1 = EarlyStopping(monitor='val_loss', patience=5, verbose=1, restore_best_weights=True)\n",
        "\n",
        "model_lstm_2_hist = model_lstm_2.fit(X_train, y_train_ohe, epochs=50, validation_data=(X_val, y_val_ohe), callbacks=[earlyStopping1])\n"
      ]
    },
    {
      "cell_type": "markdown",
      "metadata": {},
      "source": [
        "now that the model has improve by using transfer learning that provided from kaggle, the model seems improved its learning and getting used to the pattern after using the transfer learning, and the cell code above picks 50 EPOCHS to see the model's performance. However, the model stops at 15th EPOCH seems the model's best performance is at 15th EPOCH-- meaning the model's best learning is done 15 times then stop to prevent the under/over fitting. "
      ]
    },
    {
      "cell_type": "markdown",
      "metadata": {
        "id": "wqEIzjUabY78"
      },
      "source": [
        "- Model Evaluation"
      ]
    },
    {
      "cell_type": "code",
      "execution_count": 128,
      "metadata": {
        "colab": {
          "base_uri": "https://localhost:8080/",
          "height": 468
        },
        "id": "iylxGLStbY79",
        "outputId": "af13e098-2447-46d9-ecb6-886a2605dcd3"
      },
      "outputs": [
        {
          "data": {
            "image/png": "[encoded data removed]",
            "text/plain": [
              "<Figure size 1500x500 with 2 Axes>"
            ]
          },
          "metadata": {},
          "output_type": "display_data"
        }
      ],
      "source": [
        "# Write your code here\n",
        "\n",
        "## Plot Training after Transfer Learning\n",
        "\n",
        "model_lstm_2_hist_df = pd.DataFrame(model_lstm_2_hist.history)\n",
        "\n",
        "plt.figure(figsize=(15, 5))\n",
        "plt.subplot(1, 2, 1)\n",
        "sns.lineplot(data=model_lstm_2_hist_df[['accuracy', 'val_accuracy']])\n",
        "plt.grid()\n",
        "plt.title('Accuracy vs Val-Accuracy')\n",
        "\n",
        "plt.subplot(1, 2, 2)\n",
        "sns.lineplot(data=model_lstm_2_hist_df[['loss', 'val_loss']])\n",
        "plt.grid()\n",
        "plt.title('Loss vs Val-Loss')\n",
        "plt.show()"
      ]
    },
    {
      "cell_type": "markdown",
      "metadata": {
        "id": "iZwo0Ke64wRj"
      },
      "source": [
        "after we improve through machine model transfer learning, it is considered slightly underfit at the beginning for the model to learn the pattern from the dataset beginning at the first EPOCH to 10th EPOCH (which indicates the times of model to learn) looks consistent good slightly under fit, then it seems might be drastically underfit due to some texts are in different languages, such as Indonesian, Chinese, Russian, Thai, Chinese, and Indian.  \n",
        "\n",
        "the user observe based on his personal arguments that the transfer learning model is only focus on English language, and the dataset contains variative languages, it could be a trigger for the model output fit between accuracy and the val-accuracy"
      ]
    },
    {
      "cell_type": "markdown",
      "metadata": {
        "id": "DihhUaFsbY79"
      },
      "source": [
        "### ***8. Model Saving***\n",
        "\n",
        "after experimenting the model through preliminary prototype modelling and improved by using transfer learning, the cell code below is to save the blueprint to predict the review that will be executed on the inference. "
      ]
    },
    {
      "cell_type": "code",
      "execution_count": 129,
      "metadata": {
        "id": "X0O-ufQhbY7-"
      },
      "outputs": [],
      "source": [
        "# Write your code here\n",
        "\n",
        "# Save the model\n",
        "model_lstm_2.save('model')\n",
        "\n",
        "# Directory name of model name\n",
        "model_dir = 'model'\n",
        "\n",
        "# Save model as TensorFlow SavedModel\n",
        "model_lstm_2.save(model_dir, save_format='tf')"
      ]
    },
    {
      "cell_type": "code",
      "execution_count": 130,
      "metadata": {
        "colab": {
          "base_uri": "https://localhost:8080/",
          "height": 173
        },
        "id": "wiYrFZp2NDuM",
        "outputId": "64479b72-104d-493c-cf51-6e15de820778"
      },
      "outputs": [
        {
          "name": "stdout",
          "output_type": "stream",
          "text": [
            "updating: model/ (stored 0%)\n",
            "updating: model/assets/ (stored 0%)\n",
            "updating: model/assets/tokens.txt (deflated 43%)\n",
            "updating: model/keras_metadata.pb (deflated 92%)\n",
            "updating: model/variables/ (stored 0%)\n",
            "updating: model/variables/variables.data-00000-of-00001 (deflated 7%)\n",
            "updating: model/variables/variables.index (deflated 66%)\n",
            "updating: model/saved_model.pb (deflated 90%)\n",
            "updating: model/fingerprint.pb (stored 0%)\n"
          ]
        },
        {
          "data": {
            "application/javascript": "\n    async function download(id, filename, size) {\n      if (!google.colab.kernel.accessAllowed) {\n        return;\n      }\n      const div = document.createElement('div');\n      const label = document.createElement('label');\n      label.textContent = `Downloading \"${filename}\": `;\n      div.appendChild(label);\n      const progress = document.createElement('progress');\n      progress.max = size;\n      div.appendChild(progress);\n      document.body.appendChild(div);\n\n      const buffers = [];\n      let downloaded = 0;\n\n      const channel = await google.colab.kernel.comms.open(id);\n      // Send a message to notify the kernel that we're ready.\n      channel.send({})\n\n      for await (const message of channel.messages) {\n        // Send a message to notify the kernel that we're ready.\n        channel.send({})\n        if (message.buffers) {\n          for (const buffer of message.buffers) {\n            buffers.push(buffer);\n            downloaded += buffer.byteLength;\n            progress.value = downloaded;\n          }\n        }\n      }\n      const blob = new Blob(buffers, {type: 'application/binary'});\n      const a = document.createElement('a');\n      a.href = window.URL.createObjectURL(blob);\n      a.download = filename;\n      div.appendChild(a);\n      a.click();\n      div.remove();\n    }\n  ",
            "text/plain": [
              "<IPython.core.display.Javascript object>"
            ]
          },
          "metadata": {},
          "output_type": "display_data"
        },
        {
          "data": {
            "application/javascript": "download(\"download_b4ce325b-b528-4807-86b6-30d6a2d134e6\", \"model.zip\", 468050398)",
            "text/plain": [
              "<IPython.core.display.Javascript object>"
            ]
          },
          "metadata": {},
          "output_type": "display_data"
        }
      ],
      "source": [
        "# Compress the folder\n",
        "!zip -r model.zip model\n",
        "\n",
        "# Download the compressed folder\n",
        "files.download('model.zip')"
      ]
    },
    {
      "cell_type": "markdown",
      "metadata": {
        "id": "7px9TiLLbY7-"
      },
      "source": [
        "### ***9. Model Inference***"
      ]
    },
    {
      "cell_type": "markdown",
      "metadata": {
        "id": "ZGssXNjA94NB"
      },
      "source": [
        "The Inference will be tested in a different notebook which called as P2G7_Daffa.Darwin_inf.ipynb"
      ]
    },
    {
      "cell_type": "markdown",
      "metadata": {
        "id": "iEQYENXibY7_"
      },
      "source": [
        "### ***10. Conclusion Extract***"
      ]
    },
    {
      "cell_type": "markdown",
      "metadata": {
        "id": "aEYJJ-JLbY7_"
      },
      "source": [
        "to summarize this task, we can predict whenever a new user that plays Genshin Impact, the created model can predict whether the review are into positive review, neutral review, or negative review.\n",
        "\n",
        "since the review is about a game, the company that develop the game can make an improvement from the user's experience, where it can be win-to-win solutions both for the company of Genshin Impact \"Hoyoverse\" gather more benefit, profit, and well-known name, meanwhile the user can happily play the game with more improvement and great experience after the company of Genshin Impact \"Hoyoverse\" gain so much feedback that boost their product's performance.\n",
        "\n",
        "\n",
        "***RECOMMENDATION***:  \n",
        "since the dataset obtained from the real-time testimony, it is better for Hoyoverse to listen more to their customers (in this case, people that play Genshin Impact are considered as Hoyoverse's customer) so with this model, the company can classify which the review is good for them to improve their product, not necessary for them to improve their product, and bad review for their product's improvement."
      ]
    }
  ],
  "metadata": {
    "colab": {
      "provenance": []
    },
    "kernelspec": {
      "display_name": "BSD-005",
      "language": "python",
      "name": "python3"
    },
    "language_info": {
      "codemirror_mode": {
        "name": "ipython",
        "version": 3
      },
      "file_extension": ".py",
      "mimetype": "text/x-python",
      "name": "python",
      "nbconvert_exporter": "python",
      "pygments_lexer": "ipython3",
      "version": "3.9.18"
    }
  },
  "nbformat": 4,
  "nbformat_minor": 0
}
